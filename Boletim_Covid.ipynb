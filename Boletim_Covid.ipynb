{
 "cells": [
  {
   "cell_type": "code",
   "execution_count": 1,
   "metadata": {},
   "outputs": [],
   "source": [
    "#importando as bibliotecas \n",
    "# vamos chamar o pandas de pd\n",
    "import pandas as pd"
   ]
  },
  {
   "cell_type": "code",
   "execution_count": 6,
   "metadata": {},
   "outputs": [
    {
     "data": {
      "text/html": [
       "<div>\n",
       "<style scoped>\n",
       "    .dataframe tbody tr th:only-of-type {\n",
       "        vertical-align: middle;\n",
       "    }\n",
       "\n",
       "    .dataframe tbody tr th {\n",
       "        vertical-align: top;\n",
       "    }\n",
       "\n",
       "    .dataframe thead th {\n",
       "        text-align: right;\n",
       "    }\n",
       "</style>\n",
       "<table border=\"1\" class=\"dataframe\">\n",
       "  <thead>\n",
       "    <tr style=\"text-align: right;\">\n",
       "      <th></th>\n",
       "      <th>date</th>\n",
       "      <th>notes</th>\n",
       "      <th>state</th>\n",
       "      <th>url</th>\n",
       "    </tr>\n",
       "  </thead>\n",
       "  <tbody>\n",
       "    <tr>\n",
       "      <th>0</th>\n",
       "      <td>2020-03-17</td>\n",
       "      <td>NaN</td>\n",
       "      <td>AC</td>\n",
       "      <td>https://agencia.ac.gov.br/governo-confirma-tre...</td>\n",
       "    </tr>\n",
       "    <tr>\n",
       "      <th>1</th>\n",
       "      <td>2020-03-17</td>\n",
       "      <td>NaN</td>\n",
       "      <td>AC</td>\n",
       "      <td>https://agencia.ac.gov.br/boletim-sesacre-dest...</td>\n",
       "    </tr>\n",
       "    <tr>\n",
       "      <th>2</th>\n",
       "      <td>2020-03-18</td>\n",
       "      <td>NaN</td>\n",
       "      <td>AC</td>\n",
       "      <td>https://agencia.ac.gov.br/boletim-sesacre-dest...</td>\n",
       "    </tr>\n",
       "    <tr>\n",
       "      <th>3</th>\n",
       "      <td>2020-03-19</td>\n",
       "      <td>NaN</td>\n",
       "      <td>AC</td>\n",
       "      <td>https://agencia.ac.gov.br/boletim-sesacre-dest...</td>\n",
       "    </tr>\n",
       "    <tr>\n",
       "      <th>4</th>\n",
       "      <td>2020-03-20</td>\n",
       "      <td>usei este</td>\n",
       "      <td>AC</td>\n",
       "      <td>https://agencia.ac.gov.br/boletim-sesacre-dest...</td>\n",
       "    </tr>\n",
       "  </tbody>\n",
       "</table>\n",
       "</div>"
      ],
      "text/plain": [
       "         date      notes state  \\\n",
       "0  2020-03-17        NaN    AC   \n",
       "1  2020-03-17        NaN    AC   \n",
       "2  2020-03-18        NaN    AC   \n",
       "3  2020-03-19        NaN    AC   \n",
       "4  2020-03-20  usei este    AC   \n",
       "\n",
       "                                                 url  \n",
       "0  https://agencia.ac.gov.br/governo-confirma-tre...  \n",
       "1  https://agencia.ac.gov.br/boletim-sesacre-dest...  \n",
       "2  https://agencia.ac.gov.br/boletim-sesacre-dest...  \n",
       "3  https://agencia.ac.gov.br/boletim-sesacre-dest...  \n",
       "4  https://agencia.ac.gov.br/boletim-sesacre-dest...  "
      ]
     },
     "execution_count": 6,
     "metadata": {},
     "output_type": "execute_result"
    }
   ],
   "source": [
    "# carregar os arquivos csv ou qualquer outro arquivo\n",
    "# por convençao cahamamos o dataframe por df\n",
    "df = pd.read_csv('boletim.csv')\n",
    "df.head()"
   ]
  },
  {
   "cell_type": "code",
   "execution_count": null,
   "metadata": {},
   "outputs": [],
   "source": []
  }
 ],
 "metadata": {
  "kernelspec": {
   "display_name": "Python 3",
   "language": "python",
   "name": "python3"
  },
  "language_info": {
   "codemirror_mode": {
    "name": "ipython",
    "version": 3
   },
   "file_extension": ".py",
   "mimetype": "text/x-python",
   "name": "python",
   "nbconvert_exporter": "python",
   "pygments_lexer": "ipython3",
   "version": "3.8.5"
  }
 },
 "nbformat": 4,
 "nbformat_minor": 4
}
