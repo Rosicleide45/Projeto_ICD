{
 "cells": [
  {
   "cell_type": "code",
   "execution_count": 41,
   "metadata": {},
   "outputs": [],
   "source": [
    "import pandas as pd"
   ]
  },
  {
   "cell_type": "code",
   "execution_count": 42,
   "metadata": {},
   "outputs": [],
   "source": [
    "#separador , dataset \n",
    "df = pd.read_csv('HIST_PAINEL_COVIDBR_2020_Parte1_29mai2021.csv', sep=';')"
   ]
  },
  {
   "cell_type": "code",
   "execution_count": 43,
   "metadata": {},
   "outputs": [
    {
     "data": {
      "text/html": [
       "<div>\n",
       "<style scoped>\n",
       "    .dataframe tbody tr th:only-of-type {\n",
       "        vertical-align: middle;\n",
       "    }\n",
       "\n",
       "    .dataframe tbody tr th {\n",
       "        vertical-align: top;\n",
       "    }\n",
       "\n",
       "    .dataframe thead th {\n",
       "        text-align: right;\n",
       "    }\n",
       "</style>\n",
       "<table border=\"1\" class=\"dataframe\">\n",
       "  <thead>\n",
       "    <tr style=\"text-align: right;\">\n",
       "      <th></th>\n",
       "      <th>regiao</th>\n",
       "      <th>estado</th>\n",
       "      <th>municipio</th>\n",
       "      <th>coduf</th>\n",
       "      <th>codmun</th>\n",
       "      <th>codRegiaoSaude</th>\n",
       "      <th>nomeRegiaoSaude</th>\n",
       "      <th>data</th>\n",
       "      <th>semanaEpi</th>\n",
       "      <th>populacaoTCU2019</th>\n",
       "      <th>casosAcumulado</th>\n",
       "      <th>casosNovos</th>\n",
       "      <th>obitosAcumulado</th>\n",
       "      <th>obitosNovos</th>\n",
       "      <th>Recuperadosnovos</th>\n",
       "      <th>emAcompanhamentoNovos</th>\n",
       "      <th>interior/metropolitana</th>\n",
       "    </tr>\n",
       "  </thead>\n",
       "  <tbody>\n",
       "    <tr>\n",
       "      <th>0</th>\n",
       "      <td>Brasil</td>\n",
       "      <td>NaN</td>\n",
       "      <td>NaN</td>\n",
       "      <td>76.0</td>\n",
       "      <td>NaN</td>\n",
       "      <td>NaN</td>\n",
       "      <td>NaN</td>\n",
       "      <td>2020-02-25</td>\n",
       "      <td>9.0</td>\n",
       "      <td>210147125.0</td>\n",
       "      <td>0.0</td>\n",
       "      <td>0.0</td>\n",
       "      <td>0.0</td>\n",
       "      <td>0.0</td>\n",
       "      <td>NaN</td>\n",
       "      <td>NaN</td>\n",
       "      <td>NaN</td>\n",
       "    </tr>\n",
       "    <tr>\n",
       "      <th>1</th>\n",
       "      <td>Brasil</td>\n",
       "      <td>NaN</td>\n",
       "      <td>NaN</td>\n",
       "      <td>76.0</td>\n",
       "      <td>NaN</td>\n",
       "      <td>NaN</td>\n",
       "      <td>NaN</td>\n",
       "      <td>2020-02-26</td>\n",
       "      <td>9.0</td>\n",
       "      <td>210147125.0</td>\n",
       "      <td>1.0</td>\n",
       "      <td>1.0</td>\n",
       "      <td>0.0</td>\n",
       "      <td>0.0</td>\n",
       "      <td>NaN</td>\n",
       "      <td>NaN</td>\n",
       "      <td>NaN</td>\n",
       "    </tr>\n",
       "    <tr>\n",
       "      <th>2</th>\n",
       "      <td>Brasil</td>\n",
       "      <td>NaN</td>\n",
       "      <td>NaN</td>\n",
       "      <td>76.0</td>\n",
       "      <td>NaN</td>\n",
       "      <td>NaN</td>\n",
       "      <td>NaN</td>\n",
       "      <td>2020-02-27</td>\n",
       "      <td>9.0</td>\n",
       "      <td>210147125.0</td>\n",
       "      <td>1.0</td>\n",
       "      <td>0.0</td>\n",
       "      <td>0.0</td>\n",
       "      <td>0.0</td>\n",
       "      <td>NaN</td>\n",
       "      <td>NaN</td>\n",
       "      <td>NaN</td>\n",
       "    </tr>\n",
       "    <tr>\n",
       "      <th>3</th>\n",
       "      <td>Brasil</td>\n",
       "      <td>NaN</td>\n",
       "      <td>NaN</td>\n",
       "      <td>76.0</td>\n",
       "      <td>NaN</td>\n",
       "      <td>NaN</td>\n",
       "      <td>NaN</td>\n",
       "      <td>2020-02-28</td>\n",
       "      <td>9.0</td>\n",
       "      <td>210147125.0</td>\n",
       "      <td>1.0</td>\n",
       "      <td>0.0</td>\n",
       "      <td>0.0</td>\n",
       "      <td>0.0</td>\n",
       "      <td>NaN</td>\n",
       "      <td>NaN</td>\n",
       "      <td>NaN</td>\n",
       "    </tr>\n",
       "    <tr>\n",
       "      <th>4</th>\n",
       "      <td>Brasil</td>\n",
       "      <td>NaN</td>\n",
       "      <td>NaN</td>\n",
       "      <td>76.0</td>\n",
       "      <td>NaN</td>\n",
       "      <td>NaN</td>\n",
       "      <td>NaN</td>\n",
       "      <td>2020-02-29</td>\n",
       "      <td>9.0</td>\n",
       "      <td>210147125.0</td>\n",
       "      <td>2.0</td>\n",
       "      <td>1.0</td>\n",
       "      <td>0.0</td>\n",
       "      <td>0.0</td>\n",
       "      <td>NaN</td>\n",
       "      <td>NaN</td>\n",
       "      <td>NaN</td>\n",
       "    </tr>\n",
       "  </tbody>\n",
       "</table>\n",
       "</div>"
      ],
      "text/plain": [
       "   regiao estado  municipio  coduf  codmun  codRegiaoSaude  nomeRegiaoSaude  \\\n",
       "0  Brasil    NaN        NaN   76.0     NaN             NaN              NaN   \n",
       "1  Brasil    NaN        NaN   76.0     NaN             NaN              NaN   \n",
       "2  Brasil    NaN        NaN   76.0     NaN             NaN              NaN   \n",
       "3  Brasil    NaN        NaN   76.0     NaN             NaN              NaN   \n",
       "4  Brasil    NaN        NaN   76.0     NaN             NaN              NaN   \n",
       "\n",
       "         data  semanaEpi  populacaoTCU2019  casosAcumulado  casosNovos  \\\n",
       "0  2020-02-25        9.0       210147125.0             0.0         0.0   \n",
       "1  2020-02-26        9.0       210147125.0             1.0         1.0   \n",
       "2  2020-02-27        9.0       210147125.0             1.0         0.0   \n",
       "3  2020-02-28        9.0       210147125.0             1.0         0.0   \n",
       "4  2020-02-29        9.0       210147125.0             2.0         1.0   \n",
       "\n",
       "   obitosAcumulado  obitosNovos  Recuperadosnovos  emAcompanhamentoNovos  \\\n",
       "0              0.0          0.0               NaN                    NaN   \n",
       "1              0.0          0.0               NaN                    NaN   \n",
       "2              0.0          0.0               NaN                    NaN   \n",
       "3              0.0          0.0               NaN                    NaN   \n",
       "4              0.0          0.0               NaN                    NaN   \n",
       "\n",
       "   interior/metropolitana  \n",
       "0                     NaN  \n",
       "1                     NaN  \n",
       "2                     NaN  \n",
       "3                     NaN  \n",
       "4                     NaN  "
      ]
     },
     "execution_count": 43,
     "metadata": {},
     "output_type": "execute_result"
    }
   ],
   "source": [
    "#mostra as cinco primeira linhas do dataset\n",
    "df.head()"
   ]
  },
  {
   "cell_type": "code",
   "execution_count": 44,
   "metadata": {},
   "outputs": [
    {
     "data": {
      "text/plain": [
       "regiao                    4936\n",
       "estado                    4501\n",
       "municipio                    0\n",
       "coduf                     4935\n",
       "codmun                       0\n",
       "codRegiaoSaude               0\n",
       "nomeRegiaoSaude              0\n",
       "data                      4935\n",
       "semanaEpi                 4935\n",
       "populacaoTCU2019          4935\n",
       "casosAcumulado            4935\n",
       "casosNovos                4935\n",
       "obitosAcumulado           4935\n",
       "obitosNovos               4935\n",
       "Recuperadosnovos           379\n",
       "emAcompanhamentoNovos      379\n",
       "interior/metropolitana       0\n",
       "dtype: int64"
      ]
     },
     "execution_count": 44,
     "metadata": {},
     "output_type": "execute_result"
    }
   ],
   "source": [
    "# nostra a quantidade de cada df.dt\n",
    "df.count()"
   ]
  },
  {
   "cell_type": "code",
   "execution_count": 45,
   "metadata": {},
   "outputs": [
    {
     "data": {
      "text/html": [
       "<div>\n",
       "<style scoped>\n",
       "    .dataframe tbody tr th:only-of-type {\n",
       "        vertical-align: middle;\n",
       "    }\n",
       "\n",
       "    .dataframe tbody tr th {\n",
       "        vertical-align: top;\n",
       "    }\n",
       "\n",
       "    .dataframe thead th {\n",
       "        text-align: right;\n",
       "    }\n",
       "</style>\n",
       "<table border=\"1\" class=\"dataframe\">\n",
       "  <thead>\n",
       "    <tr style=\"text-align: right;\">\n",
       "      <th></th>\n",
       "      <th>municipio</th>\n",
       "      <th>coduf</th>\n",
       "      <th>codmun</th>\n",
       "      <th>codRegiaoSaude</th>\n",
       "      <th>nomeRegiaoSaude</th>\n",
       "      <th>semanaEpi</th>\n",
       "      <th>populacaoTCU2019</th>\n",
       "      <th>casosAcumulado</th>\n",
       "      <th>casosNovos</th>\n",
       "      <th>obitosAcumulado</th>\n",
       "      <th>obitosNovos</th>\n",
       "      <th>Recuperadosnovos</th>\n",
       "      <th>emAcompanhamentoNovos</th>\n",
       "      <th>interior/metropolitana</th>\n",
       "    </tr>\n",
       "  </thead>\n",
       "  <tbody>\n",
       "    <tr>\n",
       "      <th>count</th>\n",
       "      <td>0.0</td>\n",
       "      <td>4935.000000</td>\n",
       "      <td>0.0</td>\n",
       "      <td>0.0</td>\n",
       "      <td>0.0</td>\n",
       "      <td>4935.000000</td>\n",
       "      <td>4.935000e+03</td>\n",
       "      <td>4.935000e+03</td>\n",
       "      <td>4935.000000</td>\n",
       "      <td>4935.000000</td>\n",
       "      <td>4935.000000</td>\n",
       "      <td>3.790000e+02</td>\n",
       "      <td>3.790000e+02</td>\n",
       "      <td>0.0</td>\n",
       "    </tr>\n",
       "    <tr>\n",
       "      <th>mean</th>\n",
       "      <td>NaN</td>\n",
       "      <td>21.920162</td>\n",
       "      <td>NaN</td>\n",
       "      <td>NaN</td>\n",
       "      <td>NaN</td>\n",
       "      <td>24.920365</td>\n",
       "      <td>2.192834e+07</td>\n",
       "      <td>5.469003e+05</td>\n",
       "      <td>3539.928267</td>\n",
       "      <td>14759.769807</td>\n",
       "      <td>96.628977</td>\n",
       "      <td>5.050039e+06</td>\n",
       "      <td>6.525386e+05</td>\n",
       "      <td>NaN</td>\n",
       "    </tr>\n",
       "    <tr>\n",
       "      <th>std</th>\n",
       "      <td>NaN</td>\n",
       "      <td>17.276763</td>\n",
       "      <td>NaN</td>\n",
       "      <td>NaN</td>\n",
       "      <td>NaN</td>\n",
       "      <td>14.817767</td>\n",
       "      <td>5.852594e+07</td>\n",
       "      <td>1.927415e+06</td>\n",
       "      <td>11897.536025</td>\n",
       "      <td>50376.059226</td>\n",
       "      <td>356.398439</td>\n",
       "      <td>3.806864e+06</td>\n",
       "      <td>3.126109e+05</td>\n",
       "      <td>NaN</td>\n",
       "    </tr>\n",
       "    <tr>\n",
       "      <th>min</th>\n",
       "      <td>NaN</td>\n",
       "      <td>11.000000</td>\n",
       "      <td>NaN</td>\n",
       "      <td>NaN</td>\n",
       "      <td>NaN</td>\n",
       "      <td>1.000000</td>\n",
       "      <td>6.057610e+05</td>\n",
       "      <td>0.000000e+00</td>\n",
       "      <td>-7926.000000</td>\n",
       "      <td>0.000000</td>\n",
       "      <td>-75.000000</td>\n",
       "      <td>2.213000e+04</td>\n",
       "      <td>1.406200e+04</td>\n",
       "      <td>NaN</td>\n",
       "    </tr>\n",
       "    <tr>\n",
       "      <th>25%</th>\n",
       "      <td>NaN</td>\n",
       "      <td>13.000000</td>\n",
       "      <td>NaN</td>\n",
       "      <td>NaN</td>\n",
       "      <td>NaN</td>\n",
       "      <td>12.000000</td>\n",
       "      <td>8.819350e+05</td>\n",
       "      <td>1.585300e+04</td>\n",
       "      <td>140.000000</td>\n",
       "      <td>429.000000</td>\n",
       "      <td>2.000000</td>\n",
       "      <td>1.551188e+06</td>\n",
       "      <td>4.355135e+05</td>\n",
       "      <td>NaN</td>\n",
       "    </tr>\n",
       "    <tr>\n",
       "      <th>50%</th>\n",
       "      <td>NaN</td>\n",
       "      <td>16.000000</td>\n",
       "      <td>NaN</td>\n",
       "      <td>NaN</td>\n",
       "      <td>NaN</td>\n",
       "      <td>23.000000</td>\n",
       "      <td>3.273227e+06</td>\n",
       "      <td>7.323800e+04</td>\n",
       "      <td>380.000000</td>\n",
       "      <td>1351.000000</td>\n",
       "      <td>8.000000</td>\n",
       "      <td>4.835915e+06</td>\n",
       "      <td>6.636800e+05</td>\n",
       "      <td>NaN</td>\n",
       "    </tr>\n",
       "    <tr>\n",
       "      <th>75%</th>\n",
       "      <td>NaN</td>\n",
       "      <td>22.000000</td>\n",
       "      <td>NaN</td>\n",
       "      <td>NaN</td>\n",
       "      <td>NaN</td>\n",
       "      <td>37.000000</td>\n",
       "      <td>8.602865e+06</td>\n",
       "      <td>1.909815e+05</td>\n",
       "      <td>981.000000</td>\n",
       "      <td>4934.000000</td>\n",
       "      <td>23.000000</td>\n",
       "      <td>7.754128e+06</td>\n",
       "      <td>8.257095e+05</td>\n",
       "      <td>NaN</td>\n",
       "    </tr>\n",
       "    <tr>\n",
       "      <th>max</th>\n",
       "      <td>NaN</td>\n",
       "      <td>76.000000</td>\n",
       "      <td>NaN</td>\n",
       "      <td>NaN</td>\n",
       "      <td>NaN</td>\n",
       "      <td>53.000000</td>\n",
       "      <td>2.101471e+08</td>\n",
       "      <td>1.472598e+07</td>\n",
       "      <td>100158.000000</td>\n",
       "      <td>406437.000000</td>\n",
       "      <td>4249.000000</td>\n",
       "      <td>1.324266e+07</td>\n",
       "      <td>1.317658e+06</td>\n",
       "      <td>NaN</td>\n",
       "    </tr>\n",
       "  </tbody>\n",
       "</table>\n",
       "</div>"
      ],
      "text/plain": [
       "       municipio        coduf  codmun  codRegiaoSaude  nomeRegiaoSaude  \\\n",
       "count        0.0  4935.000000     0.0             0.0              0.0   \n",
       "mean         NaN    21.920162     NaN             NaN              NaN   \n",
       "std          NaN    17.276763     NaN             NaN              NaN   \n",
       "min          NaN    11.000000     NaN             NaN              NaN   \n",
       "25%          NaN    13.000000     NaN             NaN              NaN   \n",
       "50%          NaN    16.000000     NaN             NaN              NaN   \n",
       "75%          NaN    22.000000     NaN             NaN              NaN   \n",
       "max          NaN    76.000000     NaN             NaN              NaN   \n",
       "\n",
       "         semanaEpi  populacaoTCU2019  casosAcumulado     casosNovos  \\\n",
       "count  4935.000000      4.935000e+03    4.935000e+03    4935.000000   \n",
       "mean     24.920365      2.192834e+07    5.469003e+05    3539.928267   \n",
       "std      14.817767      5.852594e+07    1.927415e+06   11897.536025   \n",
       "min       1.000000      6.057610e+05    0.000000e+00   -7926.000000   \n",
       "25%      12.000000      8.819350e+05    1.585300e+04     140.000000   \n",
       "50%      23.000000      3.273227e+06    7.323800e+04     380.000000   \n",
       "75%      37.000000      8.602865e+06    1.909815e+05     981.000000   \n",
       "max      53.000000      2.101471e+08    1.472598e+07  100158.000000   \n",
       "\n",
       "       obitosAcumulado  obitosNovos  Recuperadosnovos  emAcompanhamentoNovos  \\\n",
       "count      4935.000000  4935.000000      3.790000e+02           3.790000e+02   \n",
       "mean      14759.769807    96.628977      5.050039e+06           6.525386e+05   \n",
       "std       50376.059226   356.398439      3.806864e+06           3.126109e+05   \n",
       "min           0.000000   -75.000000      2.213000e+04           1.406200e+04   \n",
       "25%         429.000000     2.000000      1.551188e+06           4.355135e+05   \n",
       "50%        1351.000000     8.000000      4.835915e+06           6.636800e+05   \n",
       "75%        4934.000000    23.000000      7.754128e+06           8.257095e+05   \n",
       "max      406437.000000  4249.000000      1.324266e+07           1.317658e+06   \n",
       "\n",
       "       interior/metropolitana  \n",
       "count                     0.0  \n",
       "mean                      NaN  \n",
       "std                       NaN  \n",
       "min                       NaN  \n",
       "25%                       NaN  \n",
       "50%                       NaN  \n",
       "75%                       NaN  \n",
       "max                       NaN  "
      ]
     },
     "execution_count": 45,
     "metadata": {},
     "output_type": "execute_result"
    }
   ],
   "source": [
    "#descrevi as colunas numericas numericos \n",
    "df.describe()"
   ]
  },
  {
   "cell_type": "code",
   "execution_count": 46,
   "metadata": {},
   "outputs": [
    {
     "data": {
      "text/plain": [
       "regiao                     object\n",
       "estado                     object\n",
       "municipio                 float64\n",
       "coduf                     float64\n",
       "codmun                    float64\n",
       "codRegiaoSaude            float64\n",
       "nomeRegiaoSaude           float64\n",
       "data                       object\n",
       "semanaEpi                 float64\n",
       "populacaoTCU2019          float64\n",
       "casosAcumulado            float64\n",
       "casosNovos                float64\n",
       "obitosAcumulado           float64\n",
       "obitosNovos               float64\n",
       "Recuperadosnovos          float64\n",
       "emAcompanhamentoNovos     float64\n",
       "interior/metropolitana    float64\n",
       "dtype: object"
      ]
     },
     "execution_count": 46,
     "metadata": {},
     "output_type": "execute_result"
    }
   ],
   "source": [
    "#mostra os tipos de cada coluna\n",
    "df.dtypes"
   ]
  },
  {
   "cell_type": "code",
   "execution_count": 47,
   "metadata": {
    "scrolled": false
   },
   "outputs": [
    {
     "data": {
      "text/plain": [
       "0.0         250\n",
       "1.0          27\n",
       "2.0          15\n",
       "23.0          8\n",
       "9.0           8\n",
       "           ... \n",
       "356117.0      1\n",
       "78646.0       1\n",
       "364762.0      1\n",
       "49547.0       1\n",
       "39421.0       1\n",
       "Name: casosAcumulado, Length: 4419, dtype: int64"
      ]
     },
     "execution_count": 47,
     "metadata": {},
     "output_type": "execute_result"
    }
   ],
   "source": [
    "#\n",
    "df['casosAcumulado'].value_counts()"
   ]
  },
  {
   "cell_type": "code",
   "execution_count": 63,
   "metadata": {},
   "outputs": [
    {
     "data": {
      "text/html": [
       "<div>\n",
       "<style scoped>\n",
       "    .dataframe tbody tr th:only-of-type {\n",
       "        vertical-align: middle;\n",
       "    }\n",
       "\n",
       "    .dataframe tbody tr th {\n",
       "        vertical-align: top;\n",
       "    }\n",
       "\n",
       "    .dataframe thead th {\n",
       "        text-align: right;\n",
       "    }\n",
       "</style>\n",
       "<table border=\"1\" class=\"dataframe\">\n",
       "  <thead>\n",
       "    <tr style=\"text-align: right;\">\n",
       "      <th></th>\n",
       "      <th>obitosAcumulado</th>\n",
       "      <th>CasosAcumulados</th>\n",
       "    </tr>\n",
       "  </thead>\n",
       "  <tbody>\n",
       "    <tr>\n",
       "      <th>obitosAcumulado</th>\n",
       "      <td>1.000000</td>\n",
       "      <td>0.995818</td>\n",
       "    </tr>\n",
       "    <tr>\n",
       "      <th>CasosAcumulados</th>\n",
       "      <td>0.995818</td>\n",
       "      <td>1.000000</td>\n",
       "    </tr>\n",
       "  </tbody>\n",
       "</table>\n",
       "</div>"
      ],
      "text/plain": [
       "                 obitosAcumulado  CasosAcumulados\n",
       "obitosAcumulado         1.000000         0.995818\n",
       "CasosAcumulados         0.995818         1.000000"
      ]
     },
     "execution_count": 63,
     "metadata": {},
     "output_type": "execute_result"
    }
   ],
   "source": [
    " df[[\"obitosAcumulado\", \"casosAcumulado\"]].corr()"
   ]
  },
  {
   "cell_type": "markdown",
   "metadata": {},
   "source": [
    "# Medidas de Centralidade e Dispersão"
   ]
  },
  {
   "cell_type": "code",
   "execution_count": 48,
   "metadata": {},
   "outputs": [
    {
     "name": "stdout",
     "output_type": "stream",
     "text": [
      "casosAcumulado\n",
      "Media = 546900.28\n",
      "Mediana = 73238.00\n",
      "Desvio Padrão = 1927415.34\n",
      "\n",
      "obitosAcumulado\n",
      "Media = 14759.77\n",
      "Mediana = 1351.00\n",
      "Desvio Padrão = 50376.06\n",
      "\n"
     ]
    }
   ],
   "source": [
    "casos = \"casosAcumulado\"\n",
    "media = df[casos].mean()\n",
    "mediana = df[casos].median()\n",
    "desvio = df[casos].std()\n",
    "\n",
    "print(casos)\n",
    "print(\"Media = {:.2f}\".format(media))\n",
    "print(\"Mediana = {:.2f}\".format(mediana))\n",
    "print(\"Desvio Padrão = {:.2f}\\n\".format(desvio))\n",
    "\n",
    "obitos = \"obitosAcumulado\"\n",
    "media = df[obitos].mean()\n",
    "mediana = df[obitos].median()\n",
    "desvio = df[obitos].std()\n",
    "\n",
    "print(obitos)\n",
    "print(\"Media = {:.2f}\".format(media))\n",
    "print(\"Mediana = {:.2f}\".format(mediana))\n",
    "print(\"Desvio Padrão = {:.2f}\\n\".format(desvio))"
   ]
  },
  {
   "cell_type": "markdown",
   "metadata": {},
   "source": [
    "# BoxPlot"
   ]
  },
  {
   "cell_type": "code",
   "execution_count": 49,
   "metadata": {},
   "outputs": [
    {
     "data": {
      "text/plain": [
       "<AxesSubplot:>"
      ]
     },
     "execution_count": 49,
     "metadata": {},
     "output_type": "execute_result"
    },
    {
     "data": {
      "image/png": "[encoded data removed]",
      "text/plain": [
       "<Figure size 432x288 with 1 Axes>"
      ]
     },
     "metadata": {
      "needs_background": "light"
     },
     "output_type": "display_data"
    }
   ],
   "source": [
    "df.boxplot(column=\"casosNovos\")"
   ]
  },
  {
   "cell_type": "code",
   "execution_count": 50,
   "metadata": {},
   "outputs": [
    {
     "data": {
      "text/plain": [
       "<AxesSubplot:>"
      ]
     },
     "execution_count": 50,
     "metadata": {},
     "output_type": "execute_result"
    },
    {
     "data": {
      "image/png": "[encoded data removed]",
      "text/plain": [
       "<Figure size 432x288 with 1 Axes>"
      ]
     },
     "metadata": {
      "needs_background": "light"
     },
     "output_type": "display_data"
    }
   ],
   "source": [
    "df.boxplot(column=\"casosAcumulado\")"
   ]
  },
  {
   "cell_type": "code",
   "execution_count": 51,
   "metadata": {},
   "outputs": [
    {
     "data": {
      "text/plain": [
       "<AxesSubplot:>"
      ]
     },
     "execution_count": 51,
     "metadata": {},
     "output_type": "execute_result"
    },
    {
     "data": {
      "image/png": "[encoded data removed]",
      "text/plain": [
       "<Figure size 432x288 with 1 Axes>"
      ]
     },
     "metadata": {
      "needs_background": "light"
     },
     "output_type": "display_data"
    }
   ],
   "source": [
    "df.boxplot(column=\"obitosNovos\")"
   ]
  },
  {
   "cell_type": "code",
   "execution_count": 52,
   "metadata": {},
   "outputs": [
    {
     "data": {
      "text/plain": [
       "<AxesSubplot:>"
      ]
     },
     "execution_count": 52,
     "metadata": {},
     "output_type": "execute_result"
    },
    {
     "data": {
      "image/png": "[encoded data removed]",
      "text/plain": [
       "<Figure size 432x288 with 1 Axes>"
      ]
     },
     "metadata": {
      "needs_background": "light"
     },
     "output_type": "display_data"
    }
   ],
   "source": [
    "df.boxplot(column=\"obitosAcumulado\")"
   ]
  },
  {
   "cell_type": "markdown",
   "metadata": {},
   "source": [
    "# Visualização de dados"
   ]
  },
  {
   "cell_type": "code",
   "execution_count": 56,
   "metadata": {},
   "outputs": [],
   "source": [
    "import seaborn as sns\n",
    "sns.set_palette('Paired')"
   ]
  },
  {
   "cell_type": "code",
   "execution_count": 69,
   "metadata": {},
   "outputs": [
    {
     "data": {
      "text/plain": [
       "[Text(0.5, 0, 'Obitos Acumulados'), Text(0, 0.5, 'Casos Acumulados')]"
      ]
     },
     "execution_count": 69,
     "metadata": {},
     "output_type": "execute_result"
    },
    {
     "data": {
      "image/png": "[encoded data removed]",
      "text/plain": [
       "<Figure size 432x288 with 1 Axes>"
      ]
     },
     "metadata": {
      "needs_background": "light"
     },
     "output_type": "display_data"
    }
   ],
   "source": [
    "linha = sns.lineplot(data=df, x=\"obitosAcumulado\", y=\"casosAcumulado\")\n",
    "linha.set(xlabel = 'Obitos Acumulados', ylabel = 'Casos Acumulados')"
   ]
  },
  {
   "cell_type": "code",
   "execution_count": 68,
   "metadata": {},
   "outputs": [
    {
     "data": {
      "text/plain": [
       "[Text(0.5, 0, 'Região'), Text(0, 0.5, 'Casos Novos')]"
      ]
     },
     "execution_count": 68,
     "metadata": {},
     "output_type": "execute_result"
    },
    {
     "data": {
      "image/png": "[encoded data removed]",
      "text/plain": [
       "<Figure size 432x288 with 1 Axes>"
      ]
     },
     "metadata": {
      "needs_background": "light"
     },
     "output_type": "display_data"
    }
   ],
   "source": [
    "barra = sns.barplot(data=df, x=\"regiao\", y=\"casosNovos\")\n",
    "barra.set(xlabel = 'Região', ylabel = 'Casos Novos')"
   ]
  },
  {
   "cell_type": "code",
   "execution_count": 71,
   "metadata": {},
   "outputs": [
    {
     "data": {
      "text/plain": [
       "[Text(0.5, 0, 'Recuperados Novos'), Text(0, 0.5, 'Casos Acumulados')]"
      ]
     },
     "execution_count": 71,
     "metadata": {},
     "output_type": "execute_result"
    },
    {
     "data": {
      "image/png": "[encoded data removed]",
      "text/plain": [
       "<Figure size 432x288 with 1 Axes>"
      ]
     },
     "metadata": {
      "needs_background": "light"
     },
     "output_type": "display_data"
    }
   ],
   "source": [
    "caixa = sns.boxplot(data=df, x=\"Recuperadosnovos\" , y=\"casosAcumulado\")\n",
    "caixa.set(xlabel = 'Recuperados Novos', ylabel = 'Casos Acumulados')"
   ]
  },
  {
   "cell_type": "code",
   "execution_count": null,
   "metadata": {},
   "outputs": [],
   "source": []
  }
 ],
 "metadata": {
  "kernelspec": {
   "display_name": "Python 3",
   "language": "python",
   "name": "python3"
  },
  "language_info": {
   "codemirror_mode": {
    "name": "ipython",
    "version": 3
   },
   "file_extension": ".py",
   "mimetype": "text/x-python",
   "name": "python",
   "nbconvert_exporter": "python",
   "pygments_lexer": "ipython3",
   "version": "3.9.2"
  }
 },
 "nbformat": 4,
 "nbformat_minor": 4
}
