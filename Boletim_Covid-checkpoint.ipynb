{
 "cells": [
  {
   "cell_type": "markdown",
   "metadata": {},
   "source": [
    "# Projeto #1 - Passos iniciais"
   ]
  },
  {
   "cell_type": "code",
   "execution_count": 1,
   "metadata": {},
   "outputs": [],
   "source": [
    "import pandas as pd\n",
    "import glob\n",
    "import functools"
   ]
  },
  {
   "cell_type": "code",
   "execution_count": 2,
   "metadata": {},
   "outputs": [],
   "source": [
    "#separador , dataset \n",
    "df = pd.concat(map(functools.partial(pd.read_csv, sep=';', compression=None), glob.glob(\"*.csv\")))"
   ]
  },
  {
   "cell_type": "code",
   "execution_count": 3,
   "metadata": {},
   "outputs": [
    {
     "data": {
      "text/html": [
       "<div>\n",
       "<style scoped>\n",
       "    .dataframe tbody tr th:only-of-type {\n",
       "        vertical-align: middle;\n",
       "    }\n",
       "\n",
       "    .dataframe tbody tr th {\n",
       "        vertical-align: top;\n",
       "    }\n",
       "\n",
       "    .dataframe thead th {\n",
       "        text-align: right;\n",
       "    }\n",
       "</style>\n",
       "<table border=\"1\" class=\"dataframe\">\n",
       "  <thead>\n",
       "    <tr style=\"text-align: right;\">\n",
       "      <th></th>\n",
       "      <th>regiao</th>\n",
       "      <th>estado</th>\n",
       "      <th>municipio</th>\n",
       "      <th>coduf</th>\n",
       "      <th>codmun</th>\n",
       "      <th>codRegiaoSaude</th>\n",
       "      <th>nomeRegiaoSaude</th>\n",
       "      <th>data</th>\n",
       "      <th>semanaEpi</th>\n",
       "      <th>populacaoTCU2019</th>\n",
       "      <th>casosAcumulado</th>\n",
       "      <th>casosNovos</th>\n",
       "      <th>obitosAcumulado</th>\n",
       "      <th>obitosNovos</th>\n",
       "      <th>Recuperadosnovos</th>\n",
       "      <th>emAcompanhamentoNovos</th>\n",
       "      <th>interior/metropolitana</th>\n",
       "    </tr>\n",
       "  </thead>\n",
       "  <tbody>\n",
       "    <tr>\n",
       "      <th>0</th>\n",
       "      <td>Brasil</td>\n",
       "      <td>NaN</td>\n",
       "      <td>NaN</td>\n",
       "      <td>76</td>\n",
       "      <td>NaN</td>\n",
       "      <td>NaN</td>\n",
       "      <td>NaN</td>\n",
       "      <td>2020-02-25</td>\n",
       "      <td>9</td>\n",
       "      <td>210147125.0</td>\n",
       "      <td>0.0</td>\n",
       "      <td>0</td>\n",
       "      <td>0</td>\n",
       "      <td>0</td>\n",
       "      <td>NaN</td>\n",
       "      <td>NaN</td>\n",
       "      <td>NaN</td>\n",
       "    </tr>\n",
       "    <tr>\n",
       "      <th>1</th>\n",
       "      <td>Brasil</td>\n",
       "      <td>NaN</td>\n",
       "      <td>NaN</td>\n",
       "      <td>76</td>\n",
       "      <td>NaN</td>\n",
       "      <td>NaN</td>\n",
       "      <td>NaN</td>\n",
       "      <td>2020-02-26</td>\n",
       "      <td>9</td>\n",
       "      <td>210147125.0</td>\n",
       "      <td>1.0</td>\n",
       "      <td>1</td>\n",
       "      <td>0</td>\n",
       "      <td>0</td>\n",
       "      <td>NaN</td>\n",
       "      <td>NaN</td>\n",
       "      <td>NaN</td>\n",
       "    </tr>\n",
       "    <tr>\n",
       "      <th>2</th>\n",
       "      <td>Brasil</td>\n",
       "      <td>NaN</td>\n",
       "      <td>NaN</td>\n",
       "      <td>76</td>\n",
       "      <td>NaN</td>\n",
       "      <td>NaN</td>\n",
       "      <td>NaN</td>\n",
       "      <td>2020-02-27</td>\n",
       "      <td>9</td>\n",
       "      <td>210147125.0</td>\n",
       "      <td>1.0</td>\n",
       "      <td>0</td>\n",
       "      <td>0</td>\n",
       "      <td>0</td>\n",
       "      <td>NaN</td>\n",
       "      <td>NaN</td>\n",
       "      <td>NaN</td>\n",
       "    </tr>\n",
       "    <tr>\n",
       "      <th>3</th>\n",
       "      <td>Brasil</td>\n",
       "      <td>NaN</td>\n",
       "      <td>NaN</td>\n",
       "      <td>76</td>\n",
       "      <td>NaN</td>\n",
       "      <td>NaN</td>\n",
       "      <td>NaN</td>\n",
       "      <td>2020-02-28</td>\n",
       "      <td>9</td>\n",
       "      <td>210147125.0</td>\n",
       "      <td>1.0</td>\n",
       "      <td>0</td>\n",
       "      <td>0</td>\n",
       "      <td>0</td>\n",
       "      <td>NaN</td>\n",
       "      <td>NaN</td>\n",
       "      <td>NaN</td>\n",
       "    </tr>\n",
       "    <tr>\n",
       "      <th>4</th>\n",
       "      <td>Brasil</td>\n",
       "      <td>NaN</td>\n",
       "      <td>NaN</td>\n",
       "      <td>76</td>\n",
       "      <td>NaN</td>\n",
       "      <td>NaN</td>\n",
       "      <td>NaN</td>\n",
       "      <td>2020-02-29</td>\n",
       "      <td>9</td>\n",
       "      <td>210147125.0</td>\n",
       "      <td>2.0</td>\n",
       "      <td>1</td>\n",
       "      <td>0</td>\n",
       "      <td>0</td>\n",
       "      <td>NaN</td>\n",
       "      <td>NaN</td>\n",
       "      <td>NaN</td>\n",
       "    </tr>\n",
       "  </tbody>\n",
       "</table>\n",
       "</div>"
      ],
      "text/plain": [
       "   regiao estado municipio  coduf  codmun  codRegiaoSaude nomeRegiaoSaude  \\\n",
       "0  Brasil    NaN       NaN     76     NaN             NaN             NaN   \n",
       "1  Brasil    NaN       NaN     76     NaN             NaN             NaN   \n",
       "2  Brasil    NaN       NaN     76     NaN             NaN             NaN   \n",
       "3  Brasil    NaN       NaN     76     NaN             NaN             NaN   \n",
       "4  Brasil    NaN       NaN     76     NaN             NaN             NaN   \n",
       "\n",
       "         data  semanaEpi  populacaoTCU2019  casosAcumulado  casosNovos  \\\n",
       "0  2020-02-25          9       210147125.0             0.0           0   \n",
       "1  2020-02-26          9       210147125.0             1.0           1   \n",
       "2  2020-02-27          9       210147125.0             1.0           0   \n",
       "3  2020-02-28          9       210147125.0             1.0           0   \n",
       "4  2020-02-29          9       210147125.0             2.0           1   \n",
       "\n",
       "   obitosAcumulado  obitosNovos  Recuperadosnovos  emAcompanhamentoNovos  \\\n",
       "0                0            0               NaN                    NaN   \n",
       "1                0            0               NaN                    NaN   \n",
       "2                0            0               NaN                    NaN   \n",
       "3                0            0               NaN                    NaN   \n",
       "4                0            0               NaN                    NaN   \n",
       "\n",
       "   interior/metropolitana  \n",
       "0                     NaN  \n",
       "1                     NaN  \n",
       "2                     NaN  \n",
       "3                     NaN  \n",
       "4                     NaN  "
      ]
     },
     "execution_count": 3,
     "metadata": {},
     "output_type": "execute_result"
    }
   ],
   "source": [
    "#mostra as cinco primeira linhas do dataset\n",
    "df.head()"
   ]
  },
  {
   "cell_type": "code",
   "execution_count": 4,
   "metadata": {},
   "outputs": [
    {
     "data": {
      "text/plain": [
       "regiao                    2417040\n",
       "estado                    2416577\n",
       "municipio                 2395100\n",
       "coduf                     2417040\n",
       "codmun                    2404130\n",
       "codRegiaoSaude            2395100\n",
       "nomeRegiaoSaude           2395100\n",
       "data                      2417040\n",
       "semanaEpi                 2417040\n",
       "populacaoTCU2019          2408010\n",
       "casosAcumulado            2417040\n",
       "casosNovos                2417040\n",
       "obitosAcumulado           2417040\n",
       "obitosNovos               2417040\n",
       "Recuperadosnovos              408\n",
       "emAcompanhamentoNovos         408\n",
       "interior/metropolitana    2395100\n",
       "dtype: int64"
      ]
     },
     "execution_count": 4,
     "metadata": {},
     "output_type": "execute_result"
    }
   ],
   "source": [
    "# nostra a quantidade de cada df.dt\n",
    "df.count()"
   ]
  },
  {
   "cell_type": "code",
   "execution_count": 5,
   "metadata": {},
   "outputs": [
    {
     "data": {
      "text/html": [
       "<div>\n",
       "<style scoped>\n",
       "    .dataframe tbody tr th:only-of-type {\n",
       "        vertical-align: middle;\n",
       "    }\n",
       "\n",
       "    .dataframe tbody tr th {\n",
       "        vertical-align: top;\n",
       "    }\n",
       "\n",
       "    .dataframe thead th {\n",
       "        text-align: right;\n",
       "    }\n",
       "</style>\n",
       "<table border=\"1\" class=\"dataframe\">\n",
       "  <thead>\n",
       "    <tr style=\"text-align: right;\">\n",
       "      <th></th>\n",
       "      <th>coduf</th>\n",
       "      <th>codmun</th>\n",
       "      <th>codRegiaoSaude</th>\n",
       "      <th>semanaEpi</th>\n",
       "      <th>populacaoTCU2019</th>\n",
       "      <th>casosAcumulado</th>\n",
       "      <th>casosNovos</th>\n",
       "      <th>obitosAcumulado</th>\n",
       "      <th>obitosNovos</th>\n",
       "      <th>Recuperadosnovos</th>\n",
       "      <th>emAcompanhamentoNovos</th>\n",
       "      <th>interior/metropolitana</th>\n",
       "    </tr>\n",
       "  </thead>\n",
       "  <tbody>\n",
       "    <tr>\n",
       "      <th>count</th>\n",
       "      <td>2.417040e+06</td>\n",
       "      <td>2.404130e+06</td>\n",
       "      <td>2.395100e+06</td>\n",
       "      <td>2.417040e+06</td>\n",
       "      <td>2.408010e+06</td>\n",
       "      <td>2.417040e+06</td>\n",
       "      <td>2.417040e+06</td>\n",
       "      <td>2.417040e+06</td>\n",
       "      <td>2.417040e+06</td>\n",
       "      <td>4.080000e+02</td>\n",
       "      <td>4.080000e+02</td>\n",
       "      <td>2.395100e+06</td>\n",
       "    </tr>\n",
       "    <tr>\n",
       "      <th>mean</th>\n",
       "      <td>3.235986e+01</td>\n",
       "      <td>3.252580e+05</td>\n",
       "      <td>3.240312e+04</td>\n",
       "      <td>2.568077e+01</td>\n",
       "      <td>1.181636e+05</td>\n",
       "      <td>3.320813e+03</td>\n",
       "      <td>2.049836e+01</td>\n",
       "      <td>9.088142e+01</td>\n",
       "      <td>5.733430e-01</td>\n",
       "      <td>5.695297e+06</td>\n",
       "      <td>6.819353e+05</td>\n",
       "      <td>6.929982e-02</td>\n",
       "    </tr>\n",
       "    <tr>\n",
       "      <th>std</th>\n",
       "      <td>9.875888e+00</td>\n",
       "      <td>9.853504e+04</td>\n",
       "      <td>9.836343e+03</td>\n",
       "      <td>1.461422e+01</td>\n",
       "      <td>3.044107e+06</td>\n",
       "      <td>1.093822e+05</td>\n",
       "      <td>6.370409e+02</td>\n",
       "      <td>2.953676e+03</td>\n",
       "      <td>2.014885e+01</td>\n",
       "      <td>4.350956e+06</td>\n",
       "      <td>3.197467e+05</td>\n",
       "      <td>2.539633e-01</td>\n",
       "    </tr>\n",
       "    <tr>\n",
       "      <th>min</th>\n",
       "      <td>1.100000e+01</td>\n",
       "      <td>1.100000e+05</td>\n",
       "      <td>1.100100e+04</td>\n",
       "      <td>1.000000e+00</td>\n",
       "      <td>7.810000e+02</td>\n",
       "      <td>0.000000e+00</td>\n",
       "      <td>-4.690500e+04</td>\n",
       "      <td>0.000000e+00</td>\n",
       "      <td>-4.109000e+03</td>\n",
       "      <td>2.213000e+04</td>\n",
       "      <td>1.406200e+04</td>\n",
       "      <td>0.000000e+00</td>\n",
       "    </tr>\n",
       "    <tr>\n",
       "      <th>25%</th>\n",
       "      <td>2.500000e+01</td>\n",
       "      <td>2.512000e+05</td>\n",
       "      <td>2.501000e+04</td>\n",
       "      <td>1.500000e+01</td>\n",
       "      <td>5.474000e+03</td>\n",
       "      <td>2.100000e+01</td>\n",
       "      <td>0.000000e+00</td>\n",
       "      <td>0.000000e+00</td>\n",
       "      <td>0.000000e+00</td>\n",
       "      <td>1.814760e+06</td>\n",
       "      <td>4.601440e+05</td>\n",
       "      <td>0.000000e+00</td>\n",
       "    </tr>\n",
       "    <tr>\n",
       "      <th>50%</th>\n",
       "      <td>3.100000e+01</td>\n",
       "      <td>3.146100e+05</td>\n",
       "      <td>3.105900e+04</td>\n",
       "      <td>2.300000e+01</td>\n",
       "      <td>1.170800e+04</td>\n",
       "      <td>1.580000e+02</td>\n",
       "      <td>0.000000e+00</td>\n",
       "      <td>3.000000e+00</td>\n",
       "      <td>0.000000e+00</td>\n",
       "      <td>5.143580e+06</td>\n",
       "      <td>6.898705e+05</td>\n",
       "      <td>0.000000e+00</td>\n",
       "    </tr>\n",
       "    <tr>\n",
       "      <th>75%</th>\n",
       "      <td>4.100000e+01</td>\n",
       "      <td>4.119150e+05</td>\n",
       "      <td>4.101500e+04</td>\n",
       "      <td>3.800000e+01</td>\n",
       "      <td>2.576800e+04</td>\n",
       "      <td>5.850000e+02</td>\n",
       "      <td>3.000000e+00</td>\n",
       "      <td>1.200000e+01</td>\n",
       "      <td>0.000000e+00</td>\n",
       "      <td>8.900006e+06</td>\n",
       "      <td>8.957862e+05</td>\n",
       "      <td>0.000000e+00</td>\n",
       "    </tr>\n",
       "    <tr>\n",
       "      <th>max</th>\n",
       "      <td>7.600000e+01</td>\n",
       "      <td>5.300100e+05</td>\n",
       "      <td>5.300100e+04</td>\n",
       "      <td>5.300000e+01</td>\n",
       "      <td>2.101471e+08</td>\n",
       "      <td>1.651512e+07</td>\n",
       "      <td>1.001580e+05</td>\n",
       "      <td>4.619310e+05</td>\n",
       "      <td>4.249000e+03</td>\n",
       "      <td>1.491274e+07</td>\n",
       "      <td>1.317658e+06</td>\n",
       "      <td>1.000000e+00</td>\n",
       "    </tr>\n",
       "  </tbody>\n",
       "</table>\n",
       "</div>"
      ],
      "text/plain": [
       "              coduf        codmun  codRegiaoSaude     semanaEpi  \\\n",
       "count  2.417040e+06  2.404130e+06    2.395100e+06  2.417040e+06   \n",
       "mean   3.235986e+01  3.252580e+05    3.240312e+04  2.568077e+01   \n",
       "std    9.875888e+00  9.853504e+04    9.836343e+03  1.461422e+01   \n",
       "min    1.100000e+01  1.100000e+05    1.100100e+04  1.000000e+00   \n",
       "25%    2.500000e+01  2.512000e+05    2.501000e+04  1.500000e+01   \n",
       "50%    3.100000e+01  3.146100e+05    3.105900e+04  2.300000e+01   \n",
       "75%    4.100000e+01  4.119150e+05    4.101500e+04  3.800000e+01   \n",
       "max    7.600000e+01  5.300100e+05    5.300100e+04  5.300000e+01   \n",
       "\n",
       "       populacaoTCU2019  casosAcumulado    casosNovos  obitosAcumulado  \\\n",
       "count      2.408010e+06    2.417040e+06  2.417040e+06     2.417040e+06   \n",
       "mean       1.181636e+05    3.320813e+03  2.049836e+01     9.088142e+01   \n",
       "std        3.044107e+06    1.093822e+05  6.370409e+02     2.953676e+03   \n",
       "min        7.810000e+02    0.000000e+00 -4.690500e+04     0.000000e+00   \n",
       "25%        5.474000e+03    2.100000e+01  0.000000e+00     0.000000e+00   \n",
       "50%        1.170800e+04    1.580000e+02  0.000000e+00     3.000000e+00   \n",
       "75%        2.576800e+04    5.850000e+02  3.000000e+00     1.200000e+01   \n",
       "max        2.101471e+08    1.651512e+07  1.001580e+05     4.619310e+05   \n",
       "\n",
       "        obitosNovos  Recuperadosnovos  emAcompanhamentoNovos  \\\n",
       "count  2.417040e+06      4.080000e+02           4.080000e+02   \n",
       "mean   5.733430e-01      5.695297e+06           6.819353e+05   \n",
       "std    2.014885e+01      4.350956e+06           3.197467e+05   \n",
       "min   -4.109000e+03      2.213000e+04           1.406200e+04   \n",
       "25%    0.000000e+00      1.814760e+06           4.601440e+05   \n",
       "50%    0.000000e+00      5.143580e+06           6.898705e+05   \n",
       "75%    0.000000e+00      8.900006e+06           8.957862e+05   \n",
       "max    4.249000e+03      1.491274e+07           1.317658e+06   \n",
       "\n",
       "       interior/metropolitana  \n",
       "count            2.395100e+06  \n",
       "mean             6.929982e-02  \n",
       "std              2.539633e-01  \n",
       "min              0.000000e+00  \n",
       "25%              0.000000e+00  \n",
       "50%              0.000000e+00  \n",
       "75%              0.000000e+00  \n",
       "max              1.000000e+00  "
      ]
     },
     "execution_count": 5,
     "metadata": {},
     "output_type": "execute_result"
    }
   ],
   "source": [
    "#descrevi as colunas numericas numericos \n",
    "df.describe()"
   ]
  },
  {
   "cell_type": "code",
   "execution_count": 6,
   "metadata": {},
   "outputs": [
    {
     "data": {
      "text/plain": [
       "regiao                     object\n",
       "estado                     object\n",
       "municipio                  object\n",
       "coduf                       int64\n",
       "codmun                    float64\n",
       "codRegiaoSaude            float64\n",
       "nomeRegiaoSaude            object\n",
       "data                       object\n",
       "semanaEpi                   int64\n",
       "populacaoTCU2019          float64\n",
       "casosAcumulado            float64\n",
       "casosNovos                  int64\n",
       "obitosAcumulado             int64\n",
       "obitosNovos                 int64\n",
       "Recuperadosnovos          float64\n",
       "emAcompanhamentoNovos     float64\n",
       "interior/metropolitana    float64\n",
       "dtype: object"
      ]
     },
     "execution_count": 6,
     "metadata": {},
     "output_type": "execute_result"
    }
   ],
   "source": [
    "#mostra os tipos de cada coluna\n",
    "df.dtypes"
   ]
  },
  {
   "cell_type": "code",
   "execution_count": 7,
   "metadata": {
    "scrolled": false
   },
   "outputs": [
    {
     "data": {
      "text/plain": [
       "0.0        275803\n",
       "1.0         56868\n",
       "2.0         34377\n",
       "3.0         25336\n",
       "4.0         21198\n",
       "            ...  \n",
       "33394.0         1\n",
       "63829.0         1\n",
       "37498.0         1\n",
       "35882.0         1\n",
       "48093.0         1\n",
       "Name: casosAcumulado, Length: 41895, dtype: int64"
      ]
     },
     "execution_count": 7,
     "metadata": {},
     "output_type": "execute_result"
    }
   ],
   "source": [
    "df['casosAcumulado'].value_counts()"
   ]
  },
  {
   "cell_type": "code",
   "execution_count": 8,
   "metadata": {},
   "outputs": [
    {
     "data": {
      "text/html": [
       "<div>\n",
       "<style scoped>\n",
       "    .dataframe tbody tr th:only-of-type {\n",
       "        vertical-align: middle;\n",
       "    }\n",
       "\n",
       "    .dataframe tbody tr th {\n",
       "        vertical-align: top;\n",
       "    }\n",
       "\n",
       "    .dataframe thead th {\n",
       "        text-align: right;\n",
       "    }\n",
       "</style>\n",
       "<table border=\"1\" class=\"dataframe\">\n",
       "  <thead>\n",
       "    <tr style=\"text-align: right;\">\n",
       "      <th></th>\n",
       "      <th>obitosAcumulado</th>\n",
       "      <th>casosAcumulado</th>\n",
       "    </tr>\n",
       "  </thead>\n",
       "  <tbody>\n",
       "    <tr>\n",
       "      <th>obitosAcumulado</th>\n",
       "      <td>1.000000</td>\n",
       "      <td>0.991591</td>\n",
       "    </tr>\n",
       "    <tr>\n",
       "      <th>casosAcumulado</th>\n",
       "      <td>0.991591</td>\n",
       "      <td>1.000000</td>\n",
       "    </tr>\n",
       "  </tbody>\n",
       "</table>\n",
       "</div>"
      ],
      "text/plain": [
       "                 obitosAcumulado  casosAcumulado\n",
       "obitosAcumulado         1.000000        0.991591\n",
       "casosAcumulado          0.991591        1.000000"
      ]
     },
     "execution_count": 8,
     "metadata": {},
     "output_type": "execute_result"
    }
   ],
   "source": [
    " df[[\"obitosAcumulado\", \"casosAcumulado\"]].corr()"
   ]
  },
  {
   "cell_type": "markdown",
   "metadata": {},
   "source": [
    "# Medidas de Centralidade e Dispersão\n",
    "# Projeto #2 - Exploração inicial"
   ]
  },
  {
   "cell_type": "code",
   "execution_count": 9,
   "metadata": {},
   "outputs": [
    {
     "name": "stdout",
     "output_type": "stream",
     "text": [
      "casosAcumulado\n",
      "Media = 3320.81\n",
      "Mediana = 158.00\n",
      "Desvio Padrão = 109382.22\n",
      "\n",
      "obitosAcumulado\n",
      "Media = 90.88\n",
      "Mediana = 3.00\n",
      "Desvio Padrão = 2953.68\n",
      "\n"
     ]
    }
   ],
   "source": [
    "casos = \"casosAcumulado\"\n",
    "media = df[casos].mean()\n",
    "mediana = df[casos].median()\n",
    "desvio = df[casos].std()\n",
    "\n",
    "print(casos)\n",
    "print(\"Media = {:.2f}\".format(media))\n",
    "print(\"Mediana = {:.2f}\".format(mediana))\n",
    "print(\"Desvio Padrão = {:.2f}\\n\".format(desvio))\n",
    "\n",
    "obitos = \"obitosAcumulado\"\n",
    "media = df[obitos].mean()\n",
    "mediana = df[obitos].median()\n",
    "desvio = df[obitos].std()\n",
    "\n",
    "print(obitos)\n",
    "print(\"Media = {:.2f}\".format(media))\n",
    "print(\"Mediana = {:.2f}\".format(mediana))\n",
    "print(\"Desvio Padrão = {:.2f}\\n\".format(desvio))"
   ]
  },
  {
   "cell_type": "markdown",
   "metadata": {},
   "source": [
    "# BoxPlot"
   ]
  },
  {
   "cell_type": "code",
   "execution_count": 10,
   "metadata": {},
   "outputs": [
    {
     "data": {
      "text/plain": [
       "<AxesSubplot:>"
      ]
     },
     "execution_count": 10,
     "metadata": {},
     "output_type": "execute_result"
    },
    {
     "data": {
      "image/png": "[encoded data removed]",
      "text/plain": [
       "<Figure size 432x288 with 1 Axes>"
      ]
     },
     "metadata": {
      "needs_background": "light"
     },
     "output_type": "display_data"
    }
   ],
   "source": [
    "df.boxplot(column=\"casosNovos\")"
   ]
  },
  {
   "cell_type": "code",
   "execution_count": 11,
   "metadata": {},
   "outputs": [
    {
     "data": {
      "text/plain": [
       "<AxesSubplot:>"
      ]
     },
     "execution_count": 11,
     "metadata": {},
     "output_type": "execute_result"
    },
    {
     "data": {
      "image/png": "[encoded data removed]",
      "text/plain": [
       "<Figure size 432x288 with 1 Axes>"
      ]
     },
     "metadata": {
      "needs_background": "light"
     },
     "output_type": "display_data"
    }
   ],
   "source": [
    "df.boxplot(column=\"casosAcumulado\")"
   ]
  },
  {
   "cell_type": "code",
   "execution_count": 12,
   "metadata": {},
   "outputs": [
    {
     "data": {
      "text/plain": [
       "<AxesSubplot:>"
      ]
     },
     "execution_count": 12,
     "metadata": {},
     "output_type": "execute_result"
    },
    {
     "data": {
      "image/png": "[encoded data removed]",
      "text/plain": [
       "<Figure size 432x288 with 1 Axes>"
      ]
     },
     "metadata": {
      "needs_background": "light"
     },
     "output_type": "display_data"
    }
   ],
   "source": [
    "df.boxplot(column=\"obitosNovos\")"
   ]
  },
  {
   "cell_type": "code",
   "execution_count": 13,
   "metadata": {},
   "outputs": [
    {
     "data": {
      "text/plain": [
       "<AxesSubplot:>"
      ]
     },
     "execution_count": 13,
     "metadata": {},
     "output_type": "execute_result"
    },
    {
     "data": {
      "image/png": "[encoded data removed]",
      "text/plain": [
       "<Figure size 432x288 with 1 Axes>"
      ]
     },
     "metadata": {
      "needs_background": "light"
     },
     "output_type": "display_data"
    }
   ],
   "source": [
    "df.boxplot(column=\"obitosAcumulado\")"
   ]
  },
  {
   "cell_type": "markdown",
   "metadata": {},
   "source": [
    "# Visualização de dados\n",
    "# Projeto #3 - Visualização de dados"
   ]
  },
  {
   "cell_type": "code",
   "execution_count": 14,
   "metadata": {},
   "outputs": [],
   "source": [
    "import seaborn as sns\n",
    "sns.set_palette('Paired')"
   ]
  },
  {
   "cell_type": "code",
   "execution_count": 15,
   "metadata": {},
   "outputs": [
    {
     "data": {
      "text/plain": [
       "[Text(0.5, 0, 'Obitos Acumulados'), Text(0, 0.5, 'Casos Acumulados')]"
      ]
     },
     "execution_count": 15,
     "metadata": {},
     "output_type": "execute_result"
    },
    {
     "data": {
      "image/png": "[encoded data removed]",
      "text/plain": [
       "<Figure size 432x288 with 1 Axes>"
      ]
     },
     "metadata": {
      "needs_background": "light"
     },
     "output_type": "display_data"
    }
   ],
   "source": [
    "linha = sns.lineplot(data=df, x=\"obitosAcumulado\", y=\"casosAcumulado\")\n",
    "linha.set(xlabel = 'Obitos Acumulados', ylabel = 'Casos Acumulados')"
   ]
  },
  {
   "cell_type": "code",
   "execution_count": 16,
   "metadata": {},
   "outputs": [
    {
     "data": {
      "text/plain": [
       "[Text(0.5, 0, 'Região'), Text(0, 0.5, 'Casos Novos')]"
      ]
     },
     "execution_count": 16,
     "metadata": {},
     "output_type": "execute_result"
    },
    {
     "data": {
      "image/png": "[encoded data removed]",
      "text/plain": [
       "<Figure size 432x288 with 1 Axes>"
      ]
     },
     "metadata": {
      "needs_background": "light"
     },
     "output_type": "display_data"
    }
   ],
   "source": [
    "barra = sns.barplot(data=df, x=\"regiao\", y=\"casosNovos\", order=[\"Norte\",\"Nordeste\",\"Centro-Oeste\",\"Sudeste\", \"Sul\"])\n",
    "barra.set(xlabel = 'Região', ylabel = 'Casos Novos')"
   ]
  },
  {
   "cell_type": "code",
   "execution_count": 17,
   "metadata": {},
   "outputs": [
    {
     "data": {
      "text/plain": [
       "[Text(0.5, 0, 'Recuperados Novos'), Text(0, 0.5, 'Casos Acumulados')]"
      ]
     },
     "execution_count": 17,
     "metadata": {},
     "output_type": "execute_result"
    },
    {
     "data": {
      "image/png": "[encoded data removed]",
      "text/plain": [
       "<Figure size 432x288 with 1 Axes>"
      ]
     },
     "metadata": {
      "needs_background": "light"
     },
     "output_type": "display_data"
    }
   ],
   "source": [
    "caixa = sns.boxplot(data=df, x=\"Recuperadosnovos\" , y=\"casosAcumulado\")\n",
    "caixa.set(xlabel = 'Recuperados Novos', ylabel = 'Casos Acumulados')"
   ]
  },
  {
   "cell_type": "code",
   "execution_count": null,
   "metadata": {},
   "outputs": [],
   "source": []
  }
 ],
 "metadata": {
  "kernelspec": {
   "display_name": "Python 3",
   "language": "python",
   "name": "python3"
  },
  "language_info": {
   "codemirror_mode": {
    "name": "ipython",
    "version": 3
   },
   "file_extension": ".py",
   "mimetype": "text/x-python",
   "name": "python",
   "nbconvert_exporter": "python",
   "pygments_lexer": "ipython3",
   "version": "3.9.2"
  }
 },
 "nbformat": 4,
 "nbformat_minor": 4
}
