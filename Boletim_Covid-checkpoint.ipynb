{
 "cells": [
  {
   "cell_type": "markdown",
   "metadata": {},
   "source": [
    "# Projeto #1 - Passos iniciais"
   ]
  },
  {
   "cell_type": "code",
   "execution_count": 1,
   "metadata": {},
   "outputs": [],
   "source": [
    "import pandas as pd\n",
    "import numpy as np\n",
    "import glob\n",
    "import functools\n",
    "from sklearn.cluster import KMeans\n",
    "%matplotlib inline"
   ]
  },
  {
   "cell_type": "code",
   "execution_count": 2,
   "metadata": {},
   "outputs": [],
   "source": [
    "#separador , dataset \n",
    "df = pd.concat(map(functools.partial(pd.read_csv, sep=';', compression=None), glob.glob(\"*.csv\")))"
   ]
  },
  {
   "cell_type": "code",
   "execution_count": 3,
   "metadata": {},
   "outputs": [
    {
     "data": {
      "text/html": [
       "<div>\n",
       "<style scoped>\n",
       "    .dataframe tbody tr th:only-of-type {\n",
       "        vertical-align: middle;\n",
       "    }\n",
       "\n",
       "    .dataframe tbody tr th {\n",
       "        vertical-align: top;\n",
       "    }\n",
       "\n",
       "    .dataframe thead th {\n",
       "        text-align: right;\n",
       "    }\n",
       "</style>\n",
       "<table border=\"1\" class=\"dataframe\">\n",
       "  <thead>\n",
       "    <tr style=\"text-align: right;\">\n",
       "      <th></th>\n",
       "      <th>regiao</th>\n",
       "      <th>estado</th>\n",
       "      <th>municipio</th>\n",
       "      <th>coduf</th>\n",
       "      <th>codmun</th>\n",
       "      <th>codRegiaoSaude</th>\n",
       "      <th>nomeRegiaoSaude</th>\n",
       "      <th>data</th>\n",
       "      <th>semanaEpi</th>\n",
       "      <th>populacaoTCU2019</th>\n",
       "      <th>casosAcumulado</th>\n",
       "      <th>casosNovos</th>\n",
       "      <th>obitosAcumulado</th>\n",
       "      <th>obitosNovos</th>\n",
       "      <th>Recuperadosnovos</th>\n",
       "      <th>emAcompanhamentoNovos</th>\n",
       "      <th>interior/metropolitana</th>\n",
       "    </tr>\n",
       "  </thead>\n",
       "  <tbody>\n",
       "    <tr>\n",
       "      <th>0</th>\n",
       "      <td>Brasil</td>\n",
       "      <td>NaN</td>\n",
       "      <td>NaN</td>\n",
       "      <td>76.0</td>\n",
       "      <td>NaN</td>\n",
       "      <td>NaN</td>\n",
       "      <td>NaN</td>\n",
       "      <td>2020-02-25</td>\n",
       "      <td>9.0</td>\n",
       "      <td>210147125.0</td>\n",
       "      <td>0.0</td>\n",
       "      <td>0.0</td>\n",
       "      <td>0.0</td>\n",
       "      <td>0.0</td>\n",
       "      <td>NaN</td>\n",
       "      <td>NaN</td>\n",
       "      <td>NaN</td>\n",
       "    </tr>\n",
       "    <tr>\n",
       "      <th>1</th>\n",
       "      <td>Brasil</td>\n",
       "      <td>NaN</td>\n",
       "      <td>NaN</td>\n",
       "      <td>76.0</td>\n",
       "      <td>NaN</td>\n",
       "      <td>NaN</td>\n",
       "      <td>NaN</td>\n",
       "      <td>2020-02-26</td>\n",
       "      <td>9.0</td>\n",
       "      <td>210147125.0</td>\n",
       "      <td>1.0</td>\n",
       "      <td>1.0</td>\n",
       "      <td>0.0</td>\n",
       "      <td>0.0</td>\n",
       "      <td>NaN</td>\n",
       "      <td>NaN</td>\n",
       "      <td>NaN</td>\n",
       "    </tr>\n",
       "    <tr>\n",
       "      <th>2</th>\n",
       "      <td>Brasil</td>\n",
       "      <td>NaN</td>\n",
       "      <td>NaN</td>\n",
       "      <td>76.0</td>\n",
       "      <td>NaN</td>\n",
       "      <td>NaN</td>\n",
       "      <td>NaN</td>\n",
       "      <td>2020-02-27</td>\n",
       "      <td>9.0</td>\n",
       "      <td>210147125.0</td>\n",
       "      <td>1.0</td>\n",
       "      <td>0.0</td>\n",
       "      <td>0.0</td>\n",
       "      <td>0.0</td>\n",
       "      <td>NaN</td>\n",
       "      <td>NaN</td>\n",
       "      <td>NaN</td>\n",
       "    </tr>\n",
       "    <tr>\n",
       "      <th>3</th>\n",
       "      <td>Brasil</td>\n",
       "      <td>NaN</td>\n",
       "      <td>NaN</td>\n",
       "      <td>76.0</td>\n",
       "      <td>NaN</td>\n",
       "      <td>NaN</td>\n",
       "      <td>NaN</td>\n",
       "      <td>2020-02-28</td>\n",
       "      <td>9.0</td>\n",
       "      <td>210147125.0</td>\n",
       "      <td>1.0</td>\n",
       "      <td>0.0</td>\n",
       "      <td>0.0</td>\n",
       "      <td>0.0</td>\n",
       "      <td>NaN</td>\n",
       "      <td>NaN</td>\n",
       "      <td>NaN</td>\n",
       "    </tr>\n",
       "    <tr>\n",
       "      <th>4</th>\n",
       "      <td>Brasil</td>\n",
       "      <td>NaN</td>\n",
       "      <td>NaN</td>\n",
       "      <td>76.0</td>\n",
       "      <td>NaN</td>\n",
       "      <td>NaN</td>\n",
       "      <td>NaN</td>\n",
       "      <td>2020-02-29</td>\n",
       "      <td>9.0</td>\n",
       "      <td>210147125.0</td>\n",
       "      <td>2.0</td>\n",
       "      <td>1.0</td>\n",
       "      <td>0.0</td>\n",
       "      <td>0.0</td>\n",
       "      <td>NaN</td>\n",
       "      <td>NaN</td>\n",
       "      <td>NaN</td>\n",
       "    </tr>\n",
       "  </tbody>\n",
       "</table>\n",
       "</div>"
      ],
      "text/plain": [
       "   regiao estado municipio  coduf  codmun  codRegiaoSaude nomeRegiaoSaude  \\\n",
       "0  Brasil    NaN       NaN   76.0     NaN             NaN             NaN   \n",
       "1  Brasil    NaN       NaN   76.0     NaN             NaN             NaN   \n",
       "2  Brasil    NaN       NaN   76.0     NaN             NaN             NaN   \n",
       "3  Brasil    NaN       NaN   76.0     NaN             NaN             NaN   \n",
       "4  Brasil    NaN       NaN   76.0     NaN             NaN             NaN   \n",
       "\n",
       "         data  semanaEpi  populacaoTCU2019  casosAcumulado  casosNovos  \\\n",
       "0  2020-02-25        9.0       210147125.0             0.0         0.0   \n",
       "1  2020-02-26        9.0       210147125.0             1.0         1.0   \n",
       "2  2020-02-27        9.0       210147125.0             1.0         0.0   \n",
       "3  2020-02-28        9.0       210147125.0             1.0         0.0   \n",
       "4  2020-02-29        9.0       210147125.0             2.0         1.0   \n",
       "\n",
       "   obitosAcumulado  obitosNovos  Recuperadosnovos  emAcompanhamentoNovos  \\\n",
       "0              0.0          0.0               NaN                    NaN   \n",
       "1              0.0          0.0               NaN                    NaN   \n",
       "2              0.0          0.0               NaN                    NaN   \n",
       "3              0.0          0.0               NaN                    NaN   \n",
       "4              0.0          0.0               NaN                    NaN   \n",
       "\n",
       "   interior/metropolitana  \n",
       "0                     NaN  \n",
       "1                     NaN  \n",
       "2                     NaN  \n",
       "3                     NaN  \n",
       "4                     NaN  "
      ]
     },
     "execution_count": 3,
     "metadata": {},
     "output_type": "execute_result"
    }
   ],
   "source": [
    "#mostra as cinco primeira linhas do dataset\n",
    "df.head()"
   ]
  },
  {
   "cell_type": "code",
   "execution_count": 4,
   "metadata": {},
   "outputs": [
    {
     "data": {
      "text/plain": [
       "regiao                    2506261\n",
       "estado                    2505348\n",
       "municipio                 2478650\n",
       "coduf                     2506260\n",
       "codmun                    2487995\n",
       "codRegiaoSaude            2478650\n",
       "nomeRegiaoSaude           2478650\n",
       "data                      2506260\n",
       "semanaEpi                 2506260\n",
       "populacaoTCU2019          2496915\n",
       "casosAcumulado            2506260\n",
       "casosNovos                2506260\n",
       "obitosAcumulado           2506260\n",
       "obitosNovos               2506260\n",
       "Recuperadosnovos              802\n",
       "emAcompanhamentoNovos         802\n",
       "interior/metropolitana    2478650\n",
       "dtype: int64"
      ]
     },
     "execution_count": 4,
     "metadata": {},
     "output_type": "execute_result"
    }
   ],
   "source": [
    "# nostra a quantidade de cada df.dt\n",
    "df.count()"
   ]
  },
  {
   "cell_type": "code",
   "execution_count": 5,
   "metadata": {},
   "outputs": [
    {
     "data": {
      "text/html": [
       "<div>\n",
       "<style scoped>\n",
       "    .dataframe tbody tr th:only-of-type {\n",
       "        vertical-align: middle;\n",
       "    }\n",
       "\n",
       "    .dataframe tbody tr th {\n",
       "        vertical-align: top;\n",
       "    }\n",
       "\n",
       "    .dataframe thead th {\n",
       "        text-align: right;\n",
       "    }\n",
       "</style>\n",
       "<table border=\"1\" class=\"dataframe\">\n",
       "  <thead>\n",
       "    <tr style=\"text-align: right;\">\n",
       "      <th></th>\n",
       "      <th>coduf</th>\n",
       "      <th>codmun</th>\n",
       "      <th>codRegiaoSaude</th>\n",
       "      <th>semanaEpi</th>\n",
       "      <th>populacaoTCU2019</th>\n",
       "      <th>casosAcumulado</th>\n",
       "      <th>casosNovos</th>\n",
       "      <th>obitosAcumulado</th>\n",
       "      <th>obitosNovos</th>\n",
       "      <th>Recuperadosnovos</th>\n",
       "      <th>emAcompanhamentoNovos</th>\n",
       "      <th>interior/metropolitana</th>\n",
       "    </tr>\n",
       "  </thead>\n",
       "  <tbody>\n",
       "    <tr>\n",
       "      <th>count</th>\n",
       "      <td>2506260.00000</td>\n",
       "      <td>2487995.00000</td>\n",
       "      <td>2478650.00000</td>\n",
       "      <td>2506260.00000</td>\n",
       "      <td>2496915.00000</td>\n",
       "      <td>2506260.00000</td>\n",
       "      <td>2506260.00000</td>\n",
       "      <td>2506260.00000</td>\n",
       "      <td>2506260.00000</td>\n",
       "      <td>802.00000</td>\n",
       "      <td>802.00000</td>\n",
       "      <td>2478650.00000</td>\n",
       "    </tr>\n",
       "    <tr>\n",
       "      <th>mean</th>\n",
       "      <td>32.33932</td>\n",
       "      <td>325258.01413</td>\n",
       "      <td>32403.12370</td>\n",
       "      <td>25.58015</td>\n",
       "      <td>161083.64675</td>\n",
       "      <td>4585.05223</td>\n",
       "      <td>27.86119</td>\n",
       "      <td>125.25663</td>\n",
       "      <td>0.77468</td>\n",
       "      <td>5572627.52494</td>\n",
       "      <td>675911.21945</td>\n",
       "      <td>0.06930</td>\n",
       "    </tr>\n",
       "    <tr>\n",
       "      <th>std</th>\n",
       "      <td>9.90662</td>\n",
       "      <td>98535.04400</td>\n",
       "      <td>9836.34329</td>\n",
       "      <td>14.37718</td>\n",
       "      <td>4114998.25786</td>\n",
       "      <td>145971.51031</td>\n",
       "      <td>853.10607</td>\n",
       "      <td>3915.87103</td>\n",
       "      <td>26.19499</td>\n",
       "      <td>4291814.87068</td>\n",
       "      <td>319010.74747</td>\n",
       "      <td>0.25396</td>\n",
       "    </tr>\n",
       "    <tr>\n",
       "      <th>min</th>\n",
       "      <td>11.00000</td>\n",
       "      <td>110000.00000</td>\n",
       "      <td>11001.00000</td>\n",
       "      <td>1.00000</td>\n",
       "      <td>781.00000</td>\n",
       "      <td>0.00000</td>\n",
       "      <td>-47815.00000</td>\n",
       "      <td>0.00000</td>\n",
       "      <td>-4109.00000</td>\n",
       "      <td>22130.00000</td>\n",
       "      <td>14062.00000</td>\n",
       "      <td>0.00000</td>\n",
       "    </tr>\n",
       "    <tr>\n",
       "      <th>25%</th>\n",
       "      <td>25.00000</td>\n",
       "      <td>251200.00000</td>\n",
       "      <td>25010.00000</td>\n",
       "      <td>15.00000</td>\n",
       "      <td>5477.00000</td>\n",
       "      <td>24.00000</td>\n",
       "      <td>0.00000</td>\n",
       "      <td>0.00000</td>\n",
       "      <td>0.00000</td>\n",
       "      <td>1721560.00000</td>\n",
       "      <td>454639.00000</td>\n",
       "      <td>0.00000</td>\n",
       "    </tr>\n",
       "    <tr>\n",
       "      <th>50%</th>\n",
       "      <td>31.00000</td>\n",
       "      <td>314610.00000</td>\n",
       "      <td>31059.00000</td>\n",
       "      <td>23.00000</td>\n",
       "      <td>11720.00000</td>\n",
       "      <td>171.00000</td>\n",
       "      <td>0.00000</td>\n",
       "      <td>3.00000</td>\n",
       "      <td>0.00000</td>\n",
       "      <td>5088635.00000</td>\n",
       "      <td>681961.00000</td>\n",
       "      <td>0.00000</td>\n",
       "    </tr>\n",
       "    <tr>\n",
       "      <th>75%</th>\n",
       "      <td>41.00000</td>\n",
       "      <td>411915.00000</td>\n",
       "      <td>41015.00000</td>\n",
       "      <td>38.00000</td>\n",
       "      <td>26000.00000</td>\n",
       "      <td>630.00000</td>\n",
       "      <td>3.00000</td>\n",
       "      <td>13.00000</td>\n",
       "      <td>0.00000</td>\n",
       "      <td>8643693.00000</td>\n",
       "      <td>874993.00000</td>\n",
       "      <td>0.00000</td>\n",
       "    </tr>\n",
       "    <tr>\n",
       "      <th>max</th>\n",
       "      <td>76.00000</td>\n",
       "      <td>530010.00000</td>\n",
       "      <td>53001.00000</td>\n",
       "      <td>53.00000</td>\n",
       "      <td>210147125.00000</td>\n",
       "      <td>17452612.00000</td>\n",
       "      <td>100158.00000</td>\n",
       "      <td>488228.00000</td>\n",
       "      <td>4249.00000</td>\n",
       "      <td>15854264.00000</td>\n",
       "      <td>1317658.00000</td>\n",
       "      <td>1.00000</td>\n",
       "    </tr>\n",
       "  </tbody>\n",
       "</table>\n",
       "</div>"
      ],
      "text/plain": [
       "               coduf         codmun codRegiaoSaude      semanaEpi  \\\n",
       "count  2506260.00000  2487995.00000  2478650.00000  2506260.00000   \n",
       "mean        32.33932   325258.01413    32403.12370       25.58015   \n",
       "std          9.90662    98535.04400     9836.34329       14.37718   \n",
       "min         11.00000   110000.00000    11001.00000        1.00000   \n",
       "25%         25.00000   251200.00000    25010.00000       15.00000   \n",
       "50%         31.00000   314610.00000    31059.00000       23.00000   \n",
       "75%         41.00000   411915.00000    41015.00000       38.00000   \n",
       "max         76.00000   530010.00000    53001.00000       53.00000   \n",
       "\n",
       "      populacaoTCU2019  casosAcumulado     casosNovos obitosAcumulado  \\\n",
       "count    2496915.00000   2506260.00000  2506260.00000   2506260.00000   \n",
       "mean      161083.64675      4585.05223       27.86119       125.25663   \n",
       "std      4114998.25786    145971.51031      853.10607      3915.87103   \n",
       "min          781.00000         0.00000   -47815.00000         0.00000   \n",
       "25%         5477.00000        24.00000        0.00000         0.00000   \n",
       "50%        11720.00000       171.00000        0.00000         3.00000   \n",
       "75%        26000.00000       630.00000        3.00000        13.00000   \n",
       "max    210147125.00000  17452612.00000   100158.00000    488228.00000   \n",
       "\n",
       "         obitosNovos Recuperadosnovos emAcompanhamentoNovos  \\\n",
       "count  2506260.00000        802.00000             802.00000   \n",
       "mean         0.77468    5572627.52494          675911.21945   \n",
       "std         26.19499    4291814.87068          319010.74747   \n",
       "min      -4109.00000      22130.00000           14062.00000   \n",
       "25%          0.00000    1721560.00000          454639.00000   \n",
       "50%          0.00000    5088635.00000          681961.00000   \n",
       "75%          0.00000    8643693.00000          874993.00000   \n",
       "max       4249.00000   15854264.00000         1317658.00000   \n",
       "\n",
       "      interior/metropolitana  \n",
       "count          2478650.00000  \n",
       "mean                 0.06930  \n",
       "std                  0.25396  \n",
       "min                  0.00000  \n",
       "25%                  0.00000  \n",
       "50%                  0.00000  \n",
       "75%                  0.00000  \n",
       "max                  1.00000  "
      ]
     },
     "execution_count": 5,
     "metadata": {},
     "output_type": "execute_result"
    }
   ],
   "source": [
    "#descrevi as colunas numericas numericos \n",
    "df.describe().apply(lambda s: s.apply('{0:.5f}'.format))"
   ]
  },
  {
   "cell_type": "code",
   "execution_count": 6,
   "metadata": {},
   "outputs": [
    {
     "data": {
      "text/plain": [
       "regiao                     object\n",
       "estado                     object\n",
       "municipio                  object\n",
       "coduf                     float64\n",
       "codmun                    float64\n",
       "codRegiaoSaude            float64\n",
       "nomeRegiaoSaude            object\n",
       "data                       object\n",
       "semanaEpi                 float64\n",
       "populacaoTCU2019          float64\n",
       "casosAcumulado            float64\n",
       "casosNovos                float64\n",
       "obitosAcumulado           float64\n",
       "obitosNovos               float64\n",
       "Recuperadosnovos          float64\n",
       "emAcompanhamentoNovos     float64\n",
       "interior/metropolitana    float64\n",
       "dtype: object"
      ]
     },
     "execution_count": 6,
     "metadata": {},
     "output_type": "execute_result"
    }
   ],
   "source": [
    "#mostra os tipos de cada coluna\n",
    "df.dtypes"
   ]
  },
  {
   "cell_type": "code",
   "execution_count": 7,
   "metadata": {
    "scrolled": false
   },
   "outputs": [
    {
     "data": {
      "text/plain": [
       "0.0         276263\n",
       "1.0          56895\n",
       "2.0          34392\n",
       "3.0          25344\n",
       "4.0          21203\n",
       "             ...  \n",
       "28653.0          1\n",
       "189650.0         1\n",
       "210584.0         1\n",
       "89379.0          1\n",
       "29201.0          1\n",
       "Name: casosAcumulado, Length: 43739, dtype: int64"
      ]
     },
     "execution_count": 7,
     "metadata": {},
     "output_type": "execute_result"
    }
   ],
   "source": [
    "df['casosAcumulado'].value_counts()"
   ]
  },
  {
   "cell_type": "code",
   "execution_count": 8,
   "metadata": {},
   "outputs": [
    {
     "data": {
      "text/html": [
       "<div>\n",
       "<style scoped>\n",
       "    .dataframe tbody tr th:only-of-type {\n",
       "        vertical-align: middle;\n",
       "    }\n",
       "\n",
       "    .dataframe tbody tr th {\n",
       "        vertical-align: top;\n",
       "    }\n",
       "\n",
       "    .dataframe thead th {\n",
       "        text-align: right;\n",
       "    }\n",
       "</style>\n",
       "<table border=\"1\" class=\"dataframe\">\n",
       "  <thead>\n",
       "    <tr style=\"text-align: right;\">\n",
       "      <th></th>\n",
       "      <th>obitosAcumulado</th>\n",
       "      <th>casosAcumulado</th>\n",
       "    </tr>\n",
       "  </thead>\n",
       "  <tbody>\n",
       "    <tr>\n",
       "      <th>obitosAcumulado</th>\n",
       "      <td>1.000000</td>\n",
       "      <td>0.993409</td>\n",
       "    </tr>\n",
       "    <tr>\n",
       "      <th>casosAcumulado</th>\n",
       "      <td>0.993409</td>\n",
       "      <td>1.000000</td>\n",
       "    </tr>\n",
       "  </tbody>\n",
       "</table>\n",
       "</div>"
      ],
      "text/plain": [
       "                 obitosAcumulado  casosAcumulado\n",
       "obitosAcumulado         1.000000        0.993409\n",
       "casosAcumulado          0.993409        1.000000"
      ]
     },
     "execution_count": 8,
     "metadata": {},
     "output_type": "execute_result"
    }
   ],
   "source": [
    " #Visualizando a relação de qual porcentegem de casos acabaram em obitos\n",
    "df[[\"obitosAcumulado\", \"casosAcumulado\"]].corr()"
   ]
  },
  {
   "cell_type": "markdown",
   "metadata": {},
   "source": [
    "# Medidas de Centralidade e Dispersão\n",
    "# Projeto #2 - Exploração inicial"
   ]
  },
  {
   "cell_type": "code",
   "execution_count": 9,
   "metadata": {
    "scrolled": true
   },
   "outputs": [
    {
     "name": "stdout",
     "output_type": "stream",
     "text": [
      "casosAcumulado\n",
      "Media = 4585.05\n",
      "Mediana = 171.00\n",
      "Desvio Padrão = 145971.51\n",
      "\n",
      "obitosAcumulado\n",
      "Media = 125.26\n",
      "Mediana = 3.00\n",
      "Desvio Padrão = 3915.87\n",
      "\n"
     ]
    }
   ],
   "source": [
    "casos = \"casosAcumulado\"\n",
    "media = df[casos].mean()\n",
    "mediana = df[casos].median()\n",
    "desvio = df[casos].std()\n",
    "\n",
    "print(casos)\n",
    "print(\"Media = {:.2f}\".format(media))\n",
    "print(\"Mediana = {:.2f}\".format(mediana))\n",
    "print(\"Desvio Padrão = {:.2f}\\n\".format(desvio))\n",
    "\n",
    "obitos = \"obitosAcumulado\"\n",
    "media = df[obitos].mean()\n",
    "mediana = df[obitos].median()\n",
    "desvio = df[obitos].std()\n",
    "\n",
    "print(obitos)\n",
    "print(\"Media = {:.2f}\".format(media))\n",
    "print(\"Mediana = {:.2f}\".format(mediana))\n",
    "print(\"Desvio Padrão = {:.2f}\\n\".format(desvio))"
   ]
  },
  {
   "cell_type": "code",
   "execution_count": 10,
   "metadata": {
    "scrolled": true
   },
   "outputs": [
    {
     "data": {
      "text/html": [
       "<div>\n",
       "<style scoped>\n",
       "    .dataframe tbody tr th:only-of-type {\n",
       "        vertical-align: middle;\n",
       "    }\n",
       "\n",
       "    .dataframe tbody tr th {\n",
       "        vertical-align: top;\n",
       "    }\n",
       "\n",
       "    .dataframe thead th {\n",
       "        text-align: right;\n",
       "    }\n",
       "</style>\n",
       "<table border=\"1\" class=\"dataframe\">\n",
       "  <thead>\n",
       "    <tr style=\"text-align: right;\">\n",
       "      <th></th>\n",
       "      <th>regiao</th>\n",
       "      <th>estado</th>\n",
       "      <th>municipio</th>\n",
       "      <th>coduf</th>\n",
       "      <th>codmun</th>\n",
       "      <th>codRegiaoSaude</th>\n",
       "      <th>nomeRegiaoSaude</th>\n",
       "      <th>data</th>\n",
       "      <th>semanaEpi</th>\n",
       "      <th>populacaoTCU2019</th>\n",
       "      <th>casosAcumulado</th>\n",
       "      <th>casosNovos</th>\n",
       "      <th>obitosAcumulado</th>\n",
       "      <th>obitosNovos</th>\n",
       "      <th>Recuperadosnovos</th>\n",
       "      <th>emAcompanhamentoNovos</th>\n",
       "      <th>interior/metropolitana</th>\n",
       "    </tr>\n",
       "  </thead>\n",
       "  <tbody>\n",
       "    <tr>\n",
       "      <th>0</th>\n",
       "      <td>Brasil</td>\n",
       "      <td>NaN</td>\n",
       "      <td>NaN</td>\n",
       "      <td>76.0</td>\n",
       "      <td>NaN</td>\n",
       "      <td>NaN</td>\n",
       "      <td>NaN</td>\n",
       "      <td>2020-02-25</td>\n",
       "      <td>9.0</td>\n",
       "      <td>210147125.0</td>\n",
       "      <td>0.0</td>\n",
       "      <td>0.0</td>\n",
       "      <td>0.0</td>\n",
       "      <td>0.0</td>\n",
       "      <td>NaN</td>\n",
       "      <td>NaN</td>\n",
       "      <td>NaN</td>\n",
       "    </tr>\n",
       "    <tr>\n",
       "      <th>1</th>\n",
       "      <td>Brasil</td>\n",
       "      <td>NaN</td>\n",
       "      <td>NaN</td>\n",
       "      <td>76.0</td>\n",
       "      <td>NaN</td>\n",
       "      <td>NaN</td>\n",
       "      <td>NaN</td>\n",
       "      <td>2020-02-26</td>\n",
       "      <td>9.0</td>\n",
       "      <td>210147125.0</td>\n",
       "      <td>1.0</td>\n",
       "      <td>1.0</td>\n",
       "      <td>0.0</td>\n",
       "      <td>0.0</td>\n",
       "      <td>NaN</td>\n",
       "      <td>NaN</td>\n",
       "      <td>NaN</td>\n",
       "    </tr>\n",
       "    <tr>\n",
       "      <th>2</th>\n",
       "      <td>Brasil</td>\n",
       "      <td>NaN</td>\n",
       "      <td>NaN</td>\n",
       "      <td>76.0</td>\n",
       "      <td>NaN</td>\n",
       "      <td>NaN</td>\n",
       "      <td>NaN</td>\n",
       "      <td>2020-02-27</td>\n",
       "      <td>9.0</td>\n",
       "      <td>210147125.0</td>\n",
       "      <td>1.0</td>\n",
       "      <td>0.0</td>\n",
       "      <td>0.0</td>\n",
       "      <td>0.0</td>\n",
       "      <td>NaN</td>\n",
       "      <td>NaN</td>\n",
       "      <td>NaN</td>\n",
       "    </tr>\n",
       "    <tr>\n",
       "      <th>3</th>\n",
       "      <td>Brasil</td>\n",
       "      <td>NaN</td>\n",
       "      <td>NaN</td>\n",
       "      <td>76.0</td>\n",
       "      <td>NaN</td>\n",
       "      <td>NaN</td>\n",
       "      <td>NaN</td>\n",
       "      <td>2020-02-28</td>\n",
       "      <td>9.0</td>\n",
       "      <td>210147125.0</td>\n",
       "      <td>1.0</td>\n",
       "      <td>0.0</td>\n",
       "      <td>0.0</td>\n",
       "      <td>0.0</td>\n",
       "      <td>NaN</td>\n",
       "      <td>NaN</td>\n",
       "      <td>NaN</td>\n",
       "    </tr>\n",
       "    <tr>\n",
       "      <th>4</th>\n",
       "      <td>Brasil</td>\n",
       "      <td>NaN</td>\n",
       "      <td>NaN</td>\n",
       "      <td>76.0</td>\n",
       "      <td>NaN</td>\n",
       "      <td>NaN</td>\n",
       "      <td>NaN</td>\n",
       "      <td>2020-02-29</td>\n",
       "      <td>9.0</td>\n",
       "      <td>210147125.0</td>\n",
       "      <td>2.0</td>\n",
       "      <td>1.0</td>\n",
       "      <td>0.0</td>\n",
       "      <td>0.0</td>\n",
       "      <td>NaN</td>\n",
       "      <td>NaN</td>\n",
       "      <td>NaN</td>\n",
       "    </tr>\n",
       "  </tbody>\n",
       "</table>\n",
       "</div>"
      ],
      "text/plain": [
       "   regiao estado municipio  coduf  codmun  codRegiaoSaude nomeRegiaoSaude  \\\n",
       "0  Brasil    NaN       NaN   76.0     NaN             NaN             NaN   \n",
       "1  Brasil    NaN       NaN   76.0     NaN             NaN             NaN   \n",
       "2  Brasil    NaN       NaN   76.0     NaN             NaN             NaN   \n",
       "3  Brasil    NaN       NaN   76.0     NaN             NaN             NaN   \n",
       "4  Brasil    NaN       NaN   76.0     NaN             NaN             NaN   \n",
       "\n",
       "         data  semanaEpi  populacaoTCU2019  casosAcumulado  casosNovos  \\\n",
       "0  2020-02-25        9.0       210147125.0             0.0         0.0   \n",
       "1  2020-02-26        9.0       210147125.0             1.0         1.0   \n",
       "2  2020-02-27        9.0       210147125.0             1.0         0.0   \n",
       "3  2020-02-28        9.0       210147125.0             1.0         0.0   \n",
       "4  2020-02-29        9.0       210147125.0             2.0         1.0   \n",
       "\n",
       "   obitosAcumulado  obitosNovos  Recuperadosnovos  emAcompanhamentoNovos  \\\n",
       "0              0.0          0.0               NaN                    NaN   \n",
       "1              0.0          0.0               NaN                    NaN   \n",
       "2              0.0          0.0               NaN                    NaN   \n",
       "3              0.0          0.0               NaN                    NaN   \n",
       "4              0.0          0.0               NaN                    NaN   \n",
       "\n",
       "   interior/metropolitana  \n",
       "0                     NaN  \n",
       "1                     NaN  \n",
       "2                     NaN  \n",
       "3                     NaN  \n",
       "4                     NaN  "
      ]
     },
     "execution_count": 10,
     "metadata": {},
     "output_type": "execute_result"
    }
   ],
   "source": [
    "#vamos criar um subconjunto dos dados originais\n",
    "df_casos = df[df['casosNovos']!= 'NaN'] \n",
    "df_casos.head()"
   ]
  },
  {
   "cell_type": "code",
   "execution_count": 11,
   "metadata": {},
   "outputs": [
    {
     "data": {
      "text/html": [
       "<div>\n",
       "<style scoped>\n",
       "    .dataframe tbody tr th:only-of-type {\n",
       "        vertical-align: middle;\n",
       "    }\n",
       "\n",
       "    .dataframe tbody tr th {\n",
       "        vertical-align: top;\n",
       "    }\n",
       "\n",
       "    .dataframe thead th {\n",
       "        text-align: right;\n",
       "    }\n",
       "</style>\n",
       "<table border=\"1\" class=\"dataframe\">\n",
       "  <thead>\n",
       "    <tr style=\"text-align: right;\">\n",
       "      <th></th>\n",
       "      <th>regiao</th>\n",
       "      <th>estado</th>\n",
       "      <th>municipio</th>\n",
       "      <th>coduf</th>\n",
       "      <th>codmun</th>\n",
       "      <th>codRegiaoSaude</th>\n",
       "      <th>nomeRegiaoSaude</th>\n",
       "      <th>data</th>\n",
       "      <th>semanaEpi</th>\n",
       "      <th>populacaoTCU2019</th>\n",
       "      <th>casosAcumulado</th>\n",
       "      <th>casosNovos</th>\n",
       "      <th>obitosAcumulado</th>\n",
       "      <th>obitosNovos</th>\n",
       "      <th>Recuperadosnovos</th>\n",
       "      <th>emAcompanhamentoNovos</th>\n",
       "      <th>interior/metropolitana</th>\n",
       "    </tr>\n",
       "  </thead>\n",
       "  <tbody>\n",
       "    <tr>\n",
       "      <th>0</th>\n",
       "      <td>Brasil</td>\n",
       "      <td>NaN</td>\n",
       "      <td>NaN</td>\n",
       "      <td>76.0</td>\n",
       "      <td>NaN</td>\n",
       "      <td>NaN</td>\n",
       "      <td>NaN</td>\n",
       "      <td>2020-02-25</td>\n",
       "      <td>9.0</td>\n",
       "      <td>210147125.0</td>\n",
       "      <td>0.0</td>\n",
       "      <td>0.0</td>\n",
       "      <td>0.0</td>\n",
       "      <td>0.0</td>\n",
       "      <td>NaN</td>\n",
       "      <td>NaN</td>\n",
       "      <td>NaN</td>\n",
       "    </tr>\n",
       "    <tr>\n",
       "      <th>1</th>\n",
       "      <td>Brasil</td>\n",
       "      <td>NaN</td>\n",
       "      <td>NaN</td>\n",
       "      <td>76.0</td>\n",
       "      <td>NaN</td>\n",
       "      <td>NaN</td>\n",
       "      <td>NaN</td>\n",
       "      <td>2020-02-26</td>\n",
       "      <td>9.0</td>\n",
       "      <td>210147125.0</td>\n",
       "      <td>1.0</td>\n",
       "      <td>1.0</td>\n",
       "      <td>0.0</td>\n",
       "      <td>0.0</td>\n",
       "      <td>NaN</td>\n",
       "      <td>NaN</td>\n",
       "      <td>NaN</td>\n",
       "    </tr>\n",
       "  </tbody>\n",
       "</table>\n",
       "</div>"
      ],
      "text/plain": [
       "   regiao estado municipio  coduf  codmun  codRegiaoSaude nomeRegiaoSaude  \\\n",
       "0  Brasil    NaN       NaN   76.0     NaN             NaN             NaN   \n",
       "1  Brasil    NaN       NaN   76.0     NaN             NaN             NaN   \n",
       "\n",
       "         data  semanaEpi  populacaoTCU2019  casosAcumulado  casosNovos  \\\n",
       "0  2020-02-25        9.0       210147125.0             0.0         0.0   \n",
       "1  2020-02-26        9.0       210147125.0             1.0         1.0   \n",
       "\n",
       "   obitosAcumulado  obitosNovos  Recuperadosnovos  emAcompanhamentoNovos  \\\n",
       "0              0.0          0.0               NaN                    NaN   \n",
       "1              0.0          0.0               NaN                    NaN   \n",
       "\n",
       "   interior/metropolitana  \n",
       "0                     NaN  \n",
       "1                     NaN  "
      ]
     },
     "execution_count": 11,
     "metadata": {},
     "output_type": "execute_result"
    }
   ],
   "source": [
    "# linhas iniciais\n",
    "df_casos.head(2)"
   ]
  },
  {
   "cell_type": "code",
   "execution_count": 12,
   "metadata": {},
   "outputs": [
    {
     "data": {
      "text/html": [
       "<div>\n",
       "<style scoped>\n",
       "    .dataframe tbody tr th:only-of-type {\n",
       "        vertical-align: middle;\n",
       "    }\n",
       "\n",
       "    .dataframe tbody tr th {\n",
       "        vertical-align: top;\n",
       "    }\n",
       "\n",
       "    .dataframe thead th {\n",
       "        text-align: right;\n",
       "    }\n",
       "</style>\n",
       "<table border=\"1\" class=\"dataframe\">\n",
       "  <thead>\n",
       "    <tr style=\"text-align: right;\">\n",
       "      <th></th>\n",
       "      <th>regiao</th>\n",
       "      <th>estado</th>\n",
       "      <th>municipio</th>\n",
       "      <th>coduf</th>\n",
       "      <th>codmun</th>\n",
       "      <th>codRegiaoSaude</th>\n",
       "      <th>nomeRegiaoSaude</th>\n",
       "      <th>data</th>\n",
       "      <th>semanaEpi</th>\n",
       "      <th>populacaoTCU2019</th>\n",
       "      <th>casosAcumulado</th>\n",
       "      <th>casosNovos</th>\n",
       "      <th>obitosAcumulado</th>\n",
       "      <th>obitosNovos</th>\n",
       "      <th>Recuperadosnovos</th>\n",
       "      <th>emAcompanhamentoNovos</th>\n",
       "      <th>interior/metropolitana</th>\n",
       "    </tr>\n",
       "  </thead>\n",
       "  <tbody>\n",
       "    <tr>\n",
       "      <th>927134</th>\n",
       "      <td>Centro-Oeste</td>\n",
       "      <td>DF</td>\n",
       "      <td>Brasília</td>\n",
       "      <td>53.0</td>\n",
       "      <td>530010.0</td>\n",
       "      <td>53001.0</td>\n",
       "      <td>DISTRITO FEDERAL</td>\n",
       "      <td>2021-06-13</td>\n",
       "      <td>24.0</td>\n",
       "      <td>3015268.0</td>\n",
       "      <td>417279.0</td>\n",
       "      <td>1150.0</td>\n",
       "      <td>8955.0</td>\n",
       "      <td>18.0</td>\n",
       "      <td>NaN</td>\n",
       "      <td>NaN</td>\n",
       "      <td>1.0</td>\n",
       "    </tr>\n",
       "    <tr>\n",
       "      <th>927135</th>\n",
       "      <td>Centro-Oeste</td>\n",
       "      <td>DF</td>\n",
       "      <td>Brasília</td>\n",
       "      <td>53.0</td>\n",
       "      <td>530010.0</td>\n",
       "      <td>53001.0</td>\n",
       "      <td>DISTRITO FEDERAL</td>\n",
       "      <td>2021-06-14</td>\n",
       "      <td>24.0</td>\n",
       "      <td>3015268.0</td>\n",
       "      <td>418089.0</td>\n",
       "      <td>810.0</td>\n",
       "      <td>8976.0</td>\n",
       "      <td>21.0</td>\n",
       "      <td>NaN</td>\n",
       "      <td>NaN</td>\n",
       "      <td>1.0</td>\n",
       "    </tr>\n",
       "  </tbody>\n",
       "</table>\n",
       "</div>"
      ],
      "text/plain": [
       "              regiao estado municipio  coduf    codmun  codRegiaoSaude  \\\n",
       "927134  Centro-Oeste     DF  Brasília   53.0  530010.0         53001.0   \n",
       "927135  Centro-Oeste     DF  Brasília   53.0  530010.0         53001.0   \n",
       "\n",
       "         nomeRegiaoSaude        data  semanaEpi  populacaoTCU2019  \\\n",
       "927134  DISTRITO FEDERAL  2021-06-13       24.0         3015268.0   \n",
       "927135  DISTRITO FEDERAL  2021-06-14       24.0         3015268.0   \n",
       "\n",
       "        casosAcumulado  casosNovos  obitosAcumulado  obitosNovos  \\\n",
       "927134        417279.0      1150.0           8955.0         18.0   \n",
       "927135        418089.0       810.0           8976.0         21.0   \n",
       "\n",
       "        Recuperadosnovos  emAcompanhamentoNovos  interior/metropolitana  \n",
       "927134               NaN                    NaN                     1.0  \n",
       "927135               NaN                    NaN                     1.0  "
      ]
     },
     "execution_count": 12,
     "metadata": {},
     "output_type": "execute_result"
    }
   ],
   "source": [
    "# linhas finais\n",
    "df_casos.tail(2)"
   ]
  },
  {
   "cell_type": "code",
   "execution_count": 13,
   "metadata": {},
   "outputs": [
    {
     "data": {
      "text/html": [
       "<div>\n",
       "<style scoped>\n",
       "    .dataframe tbody tr th:only-of-type {\n",
       "        vertical-align: middle;\n",
       "    }\n",
       "\n",
       "    .dataframe tbody tr th {\n",
       "        vertical-align: top;\n",
       "    }\n",
       "\n",
       "    .dataframe thead th {\n",
       "        text-align: right;\n",
       "    }\n",
       "</style>\n",
       "<table border=\"1\" class=\"dataframe\">\n",
       "  <thead>\n",
       "    <tr style=\"text-align: right;\">\n",
       "      <th></th>\n",
       "      <th>regiao</th>\n",
       "      <th>estado</th>\n",
       "      <th>municipio</th>\n",
       "      <th>coduf</th>\n",
       "      <th>codmun</th>\n",
       "      <th>codRegiaoSaude</th>\n",
       "      <th>nomeRegiaoSaude</th>\n",
       "      <th>data</th>\n",
       "      <th>semanaEpi</th>\n",
       "      <th>populacaoTCU2019</th>\n",
       "      <th>casosAcumulado</th>\n",
       "      <th>casosNovos</th>\n",
       "      <th>obitosAcumulado</th>\n",
       "      <th>obitosNovos</th>\n",
       "      <th>Recuperadosnovos</th>\n",
       "      <th>emAcompanhamentoNovos</th>\n",
       "      <th>interior/metropolitana</th>\n",
       "    </tr>\n",
       "  </thead>\n",
       "  <tbody>\n",
       "    <tr>\n",
       "      <th>209157</th>\n",
       "      <td>Nordeste</td>\n",
       "      <td>PE</td>\n",
       "      <td>Saloá</td>\n",
       "      <td>26.0</td>\n",
       "      <td>261230.0</td>\n",
       "      <td>26004.0</td>\n",
       "      <td>GARANHUNS</td>\n",
       "      <td>2020-04-05</td>\n",
       "      <td>15.0</td>\n",
       "      <td>15843.0</td>\n",
       "      <td>0.0</td>\n",
       "      <td>0.0</td>\n",
       "      <td>0.0</td>\n",
       "      <td>0.0</td>\n",
       "      <td>NaN</td>\n",
       "      <td>NaN</td>\n",
       "      <td>0.0</td>\n",
       "    </tr>\n",
       "    <tr>\n",
       "      <th>578888</th>\n",
       "      <td>Sudeste</td>\n",
       "      <td>SP</td>\n",
       "      <td>Guaimbê</td>\n",
       "      <td>35.0</td>\n",
       "      <td>351730.0</td>\n",
       "      <td>35093.0</td>\n",
       "      <td>MARILIA</td>\n",
       "      <td>2021-03-09</td>\n",
       "      <td>10.0</td>\n",
       "      <td>5765.0</td>\n",
       "      <td>227.0</td>\n",
       "      <td>9.0</td>\n",
       "      <td>4.0</td>\n",
       "      <td>0.0</td>\n",
       "      <td>NaN</td>\n",
       "      <td>NaN</td>\n",
       "      <td>0.0</td>\n",
       "    </tr>\n",
       "    <tr>\n",
       "      <th>812449</th>\n",
       "      <td>Sul</td>\n",
       "      <td>RS</td>\n",
       "      <td>Nova Alvorada</td>\n",
       "      <td>43.0</td>\n",
       "      <td>431275.0</td>\n",
       "      <td>43017.0</td>\n",
       "      <td>REGIAO 17</td>\n",
       "      <td>2021-06-03</td>\n",
       "      <td>22.0</td>\n",
       "      <td>3625.0</td>\n",
       "      <td>596.0</td>\n",
       "      <td>0.0</td>\n",
       "      <td>5.0</td>\n",
       "      <td>0.0</td>\n",
       "      <td>NaN</td>\n",
       "      <td>NaN</td>\n",
       "      <td>0.0</td>\n",
       "    </tr>\n",
       "    <tr>\n",
       "      <th>174420</th>\n",
       "      <td>Nordeste</td>\n",
       "      <td>RN</td>\n",
       "      <td>Cerro Corá</td>\n",
       "      <td>24.0</td>\n",
       "      <td>240270.0</td>\n",
       "      <td>24004.0</td>\n",
       "      <td>4ª REGIAO DE SAUDE - CAICO</td>\n",
       "      <td>2020-12-31</td>\n",
       "      <td>53.0</td>\n",
       "      <td>11179.0</td>\n",
       "      <td>127.0</td>\n",
       "      <td>0.0</td>\n",
       "      <td>4.0</td>\n",
       "      <td>0.0</td>\n",
       "      <td>NaN</td>\n",
       "      <td>NaN</td>\n",
       "      <td>0.0</td>\n",
       "    </tr>\n",
       "    <tr>\n",
       "      <th>394532</th>\n",
       "      <td>Sudeste</td>\n",
       "      <td>MG</td>\n",
       "      <td>Fortuna de Minas</td>\n",
       "      <td>31.0</td>\n",
       "      <td>312640.0</td>\n",
       "      <td>31024.0</td>\n",
       "      <td>SETE LAGOAS</td>\n",
       "      <td>2020-11-06</td>\n",
       "      <td>45.0</td>\n",
       "      <td>2947.0</td>\n",
       "      <td>19.0</td>\n",
       "      <td>0.0</td>\n",
       "      <td>0.0</td>\n",
       "      <td>0.0</td>\n",
       "      <td>NaN</td>\n",
       "      <td>NaN</td>\n",
       "      <td>0.0</td>\n",
       "    </tr>\n",
       "  </tbody>\n",
       "</table>\n",
       "</div>"
      ],
      "text/plain": [
       "          regiao estado         municipio  coduf    codmun  codRegiaoSaude  \\\n",
       "209157  Nordeste     PE             Saloá   26.0  261230.0         26004.0   \n",
       "578888   Sudeste     SP           Guaimbê   35.0  351730.0         35093.0   \n",
       "812449       Sul     RS     Nova Alvorada   43.0  431275.0         43017.0   \n",
       "174420  Nordeste     RN        Cerro Corá   24.0  240270.0         24004.0   \n",
       "394532   Sudeste     MG  Fortuna de Minas   31.0  312640.0         31024.0   \n",
       "\n",
       "                   nomeRegiaoSaude        data  semanaEpi  populacaoTCU2019  \\\n",
       "209157                   GARANHUNS  2020-04-05       15.0           15843.0   \n",
       "578888                     MARILIA  2021-03-09       10.0            5765.0   \n",
       "812449                   REGIAO 17  2021-06-03       22.0            3625.0   \n",
       "174420  4ª REGIAO DE SAUDE - CAICO  2020-12-31       53.0           11179.0   \n",
       "394532                 SETE LAGOAS  2020-11-06       45.0            2947.0   \n",
       "\n",
       "        casosAcumulado  casosNovos  obitosAcumulado  obitosNovos  \\\n",
       "209157             0.0         0.0              0.0          0.0   \n",
       "578888           227.0         9.0              4.0          0.0   \n",
       "812449           596.0         0.0              5.0          0.0   \n",
       "174420           127.0         0.0              4.0          0.0   \n",
       "394532            19.0         0.0              0.0          0.0   \n",
       "\n",
       "        Recuperadosnovos  emAcompanhamentoNovos  interior/metropolitana  \n",
       "209157               NaN                    NaN                     0.0  \n",
       "578888               NaN                    NaN                     0.0  \n",
       "812449               NaN                    NaN                     0.0  \n",
       "174420               NaN                    NaN                     0.0  \n",
       "394532               NaN                    NaN                     0.0  "
      ]
     },
     "execution_count": 13,
     "metadata": {},
     "output_type": "execute_result"
    }
   ],
   "source": [
    "#linhas aleatorias do datafre\n",
    "df_casos.sample(5)"
   ]
  },
  {
   "cell_type": "markdown",
   "metadata": {},
   "source": [
    "# BoxPlot"
   ]
  },
  {
   "cell_type": "code",
   "execution_count": 14,
   "metadata": {},
   "outputs": [
    {
     "data": {
      "text/plain": [
       "<AxesSubplot:>"
      ]
     },
     "execution_count": 14,
     "metadata": {},
     "output_type": "execute_result"
    },
    {
     "data": {
      "image/png": "[encoded data removed]",
      "text/plain": [
       "<Figure size 432x288 with 1 Axes>"
      ]
     },
     "metadata": {
      "needs_background": "light"
     },
     "output_type": "display_data"
    }
   ],
   "source": [
    "df.boxplot(column=\"casosNovos\")"
   ]
  },
  {
   "cell_type": "code",
   "execution_count": 15,
   "metadata": {},
   "outputs": [
    {
     "data": {
      "text/plain": [
       "<AxesSubplot:>"
      ]
     },
     "execution_count": 15,
     "metadata": {},
     "output_type": "execute_result"
    },
    {
     "data": {
      "image/png": "[encoded data removed]",
      "text/plain": [
       "<Figure size 432x288 with 1 Axes>"
      ]
     },
     "metadata": {
      "needs_background": "light"
     },
     "output_type": "display_data"
    }
   ],
   "source": [
    "df.boxplot(column=\"casosAcumulado\")"
   ]
  },
  {
   "cell_type": "code",
   "execution_count": 16,
   "metadata": {},
   "outputs": [
    {
     "data": {
      "text/plain": [
       "<AxesSubplot:>"
      ]
     },
     "execution_count": 16,
     "metadata": {},
     "output_type": "execute_result"
    },
    {
     "data": {
      "image/png": "[encoded data removed]",
      "text/plain": [
       "<Figure size 432x288 with 1 Axes>"
      ]
     },
     "metadata": {
      "needs_background": "light"
     },
     "output_type": "display_data"
    }
   ],
   "source": [
    "df.boxplot(column=\"obitosNovos\")"
   ]
  },
  {
   "cell_type": "code",
   "execution_count": 17,
   "metadata": {
    "scrolled": true
   },
   "outputs": [
    {
     "data": {
      "text/plain": [
       "<AxesSubplot:>"
      ]
     },
     "execution_count": 17,
     "metadata": {},
     "output_type": "execute_result"
    },
    {
     "data": {
      "image/png": "[encoded data removed]",
      "text/plain": [
       "<Figure size 432x288 with 1 Axes>"
      ]
     },
     "metadata": {
      "needs_background": "light"
     },
     "output_type": "display_data"
    }
   ],
   "source": [
    "df.boxplot(column=\"obitosAcumulado\")"
   ]
  },
  {
   "cell_type": "markdown",
   "metadata": {},
   "source": [
    "# Visualização de dados\n",
    "# Projeto #3 - Visualização de dados"
   ]
  },
  {
   "cell_type": "code",
   "execution_count": 18,
   "metadata": {},
   "outputs": [],
   "source": [
    "import seaborn as sns\n",
    "sns.set_palette('Paired')"
   ]
  },
  {
   "cell_type": "code",
   "execution_count": 19,
   "metadata": {},
   "outputs": [
    {
     "data": {
      "text/plain": [
       "[Text(0.5, 0, 'Obitos Acumulados'), Text(0, 0.5, 'Casos Acumulados')]"
      ]
     },
     "execution_count": 19,
     "metadata": {},
     "output_type": "execute_result"
    },
    {
     "data": {
      "image/png": "[encoded data removed]",
      "text/plain": [
       "<Figure size 432x288 with 1 Axes>"
      ]
     },
     "metadata": {
      "needs_background": "light"
     },
     "output_type": "display_data"
    }
   ],
   "source": [
    "linha = sns.lineplot(data=df, x=\"obitosAcumulado\", y=\"casosAcumulado\")\n",
    "linha.set(xlabel = 'Obitos Acumulados', ylabel = 'Casos Acumulados')"
   ]
  },
  {
   "cell_type": "code",
   "execution_count": null,
   "metadata": {},
   "outputs": [],
   "source": [
    "barra = sns.barplot(data=df, x=\"regiao\", y=\"casosNovos\", order=[\"Norte\",\"Nordeste\",\"Centro-Oeste\",\"Sudeste\", \"Sul\"])\n",
    "barra.set(xlabel = 'Região', ylabel = 'Casos Novos')"
   ]
  },
  {
   "cell_type": "code",
   "execution_count": null,
   "metadata": {},
   "outputs": [],
   "source": [
    "caixa = sns.boxplot(data=df, x=\"Recuperadosnovos\" , y=\"casosAcumulado\")\n",
    "caixa.set(xlabel = 'Recuperados Novos', ylabel = 'Casos Acumulados')"
   ]
  },
  {
   "cell_type": "code",
   "execution_count": null,
   "metadata": {},
   "outputs": [],
   "source": [
    "scatter = sns.scatterplot(data=df, x=\"Recuperadosnovos\" , y=\"casosAcumulado\")\n",
    "scatter.set(xlabel = 'Recuperados Novos', ylabel = 'Casos Acumulados')"
   ]
  },
  {
   "cell_type": "markdown",
   "metadata": {},
   "source": [
    "# Limpeza e Transformação\n",
    "# Projeto #4 - Limpeza e Transformação"
   ]
  },
  {
   "cell_type": "code",
   "execution_count": null,
   "metadata": {},
   "outputs": [],
   "source": [
    "# criando df com com a coluna data que não sejam TBD\n",
    "data_TBD = df[\"data\"][df[\"data\"] != \"TBD\"]\n",
    "data_TBD"
   ]
  },
  {
   "cell_type": "code",
   "execution_count": null,
   "metadata": {},
   "outputs": [],
   "source": [
    "# transformando os dados datetime64[ns]\n",
    "pd.to_datetime(data_TBD)"
   ]
  },
  {
   "cell_type": "code",
   "execution_count": null,
   "metadata": {},
   "outputs": [],
   "source": [
    "#converter o tipo da coluna de objeto para data\n",
    "pd.to_datetime(data_TBD)"
   ]
  },
  {
   "cell_type": "code",
   "execution_count": null,
   "metadata": {},
   "outputs": [],
   "source": [
    "df[\"populacaoTCU2019\"]"
   ]
  },
  {
   "cell_type": "code",
   "execution_count": null,
   "metadata": {},
   "outputs": [],
   "source": [
    "sns.displot(df,x=\"populacaoTCU2019\", bins =20)"
   ]
  },
  {
   "cell_type": "code",
   "execution_count": null,
   "metadata": {},
   "outputs": [],
   "source": [
    "# transformar os dados em logaritmos e criar uma nova coluna para ver \n",
    "# a distribuicao da curva para analisar esses valores  novo= df[df[\"populacaoTCU2019\" ] > 0 ].copy()\n",
    "df[\"log_populacao\"]= np.log10(df[\"populacaoTCU2019\"])\n",
    "sns.displot(df,x=\"log_populacao\" , bins = 20)\n"
   ]
  },
  {
   "cell_type": "code",
   "execution_count": null,
   "metadata": {},
   "outputs": [],
   "source": [
    "#Conta os elementos nulos em cada coluna\n",
    "df.isna().sum()"
   ]
  },
  {
   "cell_type": "markdown",
   "metadata": {},
   "source": [
    "# Agrupamento\n",
    "# Projeto #5 - Agrupamento"
   ]
  },
  {
   "cell_type": "code",
   "execution_count": null,
   "metadata": {},
   "outputs": [],
   "source": [
    "df_group = df[[\"casosAcumulado\" , \"obitosNovos\"]]\n",
    "df_group.dropna(how='all')\n",
    "kmeans = KMeans(n_clusters=2)"
   ]
  },
  {
   "cell_type": "code",
   "execution_count": null,
   "metadata": {},
   "outputs": [],
   "source": [
    "kmeans.fit(df_group)"
   ]
  },
  {
   "cell_type": "code",
   "execution_count": null,
   "metadata": {},
   "outputs": [],
   "source": []
  }
 ],
 "metadata": {
  "kernelspec": {
   "display_name": "Python 3",
   "language": "python",
   "name": "python3"
  },
  "language_info": {
   "codemirror_mode": {
    "name": "ipython",
    "version": 3
   },
   "file_extension": ".py",
   "mimetype": "text/x-python",
   "name": "python",
   "nbconvert_exporter": "python",
   "pygments_lexer": "ipython3",
   "version": "3.9.2"
  }
 },
 "nbformat": 4,
 "nbformat_minor": 4
}
